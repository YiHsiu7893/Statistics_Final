{
  "nbformat": 4,
  "nbformat_minor": 0,
  "metadata": {
    "colab": {
      "provenance": [],
      "collapsed_sections": [
        "SrPn6DkYmx9G",
        "gUjfpPmhFVuF",
        "oKNXBAcTjo8P"
      ]
    },
    "kernelspec": {
      "name": "python3",
      "display_name": "Python 3"
    },
    "language_info": {
      "name": "python"
    }
  },
  "cells": [
    {
      "cell_type": "code",
      "source": [
        "import numpy as np\n",
        "import pandas as pd\n",
        "import statistics as st\n",
        "from scipy import stats\n",
        "import random\n",
        "import math"
      ],
      "metadata": {
        "id": "VQm5Zdk8hyYu"
      },
      "execution_count": 44,
      "outputs": []
    },
    {
      "cell_type": "markdown",
      "source": [
        "# Recent Changes in the Number of Master's Students"
      ],
      "metadata": {
        "id": "ZW4hTi4ijfDd"
      }
    },
    {
      "cell_type": "markdown",
      "source": [
        "## functions"
      ],
      "metadata": {
        "id": "NABhcgXvKiyw"
      }
    },
    {
      "cell_type": "markdown",
      "source": [
        "### if n >= 30 -> perform 1-sided, 2-sample z-test"
      ],
      "metadata": {
        "id": "akAPaTUK-V_W"
      }
    },
    {
      "cell_type": "code",
      "source": [
        "def z_test (data, year1, year2):\n",
        "  df1 = data[data['Year'] == year1]\n",
        "  df2 = data[data['Year'] == year2]\n",
        "  df_n1 = len(df1['School'].unique())\n",
        "  df_n2 = len(df2['School'].unique())\n",
        "\n",
        "  print(\"1. Analyze Statistical Measures\")\n",
        "  print(f\"Calculate the average total number of master's graduates per school for the {year1}th and {year2}th academic years, µ_{year1} & µ_{year2}\")\n",
        "\n",
        "  df1_mean = df1['gradTotal'].mean()\n",
        "  df2_mean = df2['gradTotal'].mean()\n",
        "\n",
        "  df1_std = df1['gradTotal'].std()\n",
        "  df2_std = df2['gradTotal'].std()\n",
        "\n",
        "  print(f\"number of schools in year {year1}:\", df_n1)\n",
        "  print(f\"number of schools in year {year2}:\", df_n2)\n",
        "  print(f'mean number of master\\'s graduates in year {year1}: ', df1_mean)\n",
        "  print(f'mean number of master\\'s graduates in year {year2}: ', df2_mean)\n",
        "  print(f'std of master\\'s graduates in year {year1}: ', df1_std)\n",
        "  print(f'std of master\\'s graduates in year {year2}: ', df2_std)\n",
        "\n",
        "\n",
        "  print(\"\\n2. Hypothesis\")\n",
        "  print(f\"H0: µ{year1} - µ{year2} ≧ 0\")\n",
        "  print(f\"Ha: µ{year1} - µ{year2} < 0\")\n",
        "\n",
        "\n",
        "  print(\"\\n3. Perform 1-sided, 2-sample z-test\")\n",
        "  z = (df1_mean - df2_mean) / math.sqrt(df1_std**2 / df_n1 + df2_std**2 / df_n2)\n",
        "  p_value = stats.norm.cdf(z)\n",
        "  print(f\"the test statistic is {z}, p-value is {p_value}\")\n",
        "\n",
        "  alpha = 0.05\n",
        "  if p_value < alpha:\n",
        "    print(f\"Since the p-value is less than 0.05, H0 is rejected.\")\n",
        "    print(f\"There is sufficient evidence to indicate that there is a difference in the mean number of master\\'s graduates in year {year1} and year {year2} at alpha = 0.05.\")\n",
        "  else:\n",
        "    print(f\"Since the p-value is greater than 0.05, H0 is not rejected.\")\n",
        "    print(f\"There is insufficient evidence to indicate that there is a difference in the mean number of master\\'s graduates in year {year1} and year {year2} at alpha = 0.05.\")"
      ],
      "metadata": {
        "id": "NOtvMsCwFVuI"
      },
      "execution_count": 45,
      "outputs": []
    },
    {
      "cell_type": "markdown",
      "source": [
        "### if n < 30, data is not normally distributed -> perform 1-sided, 2-sample Mann-Whitney U-test"
      ],
      "metadata": {
        "id": "L-Uaq_LNZvap"
      }
    },
    {
      "cell_type": "code",
      "source": [
        "def u_test(data, year1, year2):\n",
        "  df1 = data[data['Year'] == year1]\n",
        "  df2 = data[data['Year'] == year2]\n",
        "  df_n1 = len(df1['School'].unique())\n",
        "  df_n2 = len(df2['School'].unique())\n",
        "\n",
        "  print(\"1. Analyze Statistical Measures\")\n",
        "  print(f\"Calculate the average total number of master's graduates per school for the {year1}th and {year2}th academic years, µ_{year1} & µ_{year2}\")\n",
        "\n",
        "  df1_mean = df1['gradTotal'].mean()\n",
        "  df2_mean = df2['gradTotal'].mean()\n",
        "\n",
        "  df1_std = df1['gradTotal'].std()\n",
        "  df2_std = df2['gradTotal'].std()\n",
        "\n",
        "  print(f\"number of schools in year {year1}:\", df_n1)\n",
        "  print(f\"number of schools in year {year2}:\", df_n2)\n",
        "  print(f'mean number of master\\'s graduates in year {year1}: ', df1_mean)\n",
        "  print(f'mean number of master\\'s graduates in year {year2}: ', df2_mean)\n",
        "  print(f'std of master\\'s graduates in year {year1}: ', df1_std)\n",
        "  print(f'std of master\\'s graduates in year {year2}: ', df2_std)\n",
        "\n",
        "\n",
        "  print(\"\\n2. Hypothesis\")\n",
        "  print(f\"H0: µ{year1} - µ{year2} ≧ 0\")\n",
        "  print(f\"Ha: µ{year1} - µ{year2} < 0\")\n",
        "\n",
        "\n",
        "  print(\"\\n3. Perform 1-sided, 2-sample u-test\")\n",
        "  u, p_value = stats.mannwhitneyu(df1['gradTotal'], df2['gradTotal'], alternative='less')\n",
        "  print(f\"the test statistic is {u}, p-value is {p_value}\")\n",
        "\n",
        "  alpha = 0.05\n",
        "  if p_value < alpha:\n",
        "    print(f\"Since the p-value is less than 0.05, H0 is rejected.\")\n",
        "    print(f\"There is sufficient evidence to indicate that there is a difference in the mean number of master\\'s graduates in year {year1} and year {year2} at alpha = 0.05.\")\n",
        "  else:\n",
        "    print(f\"Since the p-value is greater than 0.05, H0 is not rejected.\")\n",
        "    print(f\"There is insufficient evidence to indicate that there is a difference in the mean number of master\\'s graduates in year {year1} and year {year2} at alpha = 0.05.\")\n"
      ],
      "metadata": {
        "id": "2Iodd1agZ2aL"
      },
      "execution_count": 46,
      "outputs": []
    },
    {
      "cell_type": "markdown",
      "source": [
        "## load dataset"
      ],
      "metadata": {
        "id": "ywouH7c4hr9e"
      }
    },
    {
      "cell_type": "code",
      "execution_count": 47,
      "metadata": {
        "colab": {
          "base_uri": "https://localhost:8080/",
          "height": 0
        },
        "id": "xDuA9LCAhi1l",
        "outputId": "bd8ba32e-0199-4bf4-8896-26b7f8b0a9ea"
      },
      "outputs": [
        {
          "output_type": "execute_result",
          "data": {
            "text/plain": [
              "   Year  School  gradTotal     Type Ownership\n",
              "0   103    世新大學        267  General   Private\n",
              "1   103    中原大學        706  General   Private\n",
              "2   103  中國文化大學        509  General   Private\n",
              "3   103  中國科技大學         48     Tech   Private\n",
              "4   103  中國醫藥大學        214  General   Private"
            ],
            "text/html": [
              "\n",
              "  <div id=\"df-1ddd1b42-1fcc-48e0-b6f1-ce551ecfe08a\" class=\"colab-df-container\">\n",
              "    <div>\n",
              "<style scoped>\n",
              "    .dataframe tbody tr th:only-of-type {\n",
              "        vertical-align: middle;\n",
              "    }\n",
              "\n",
              "    .dataframe tbody tr th {\n",
              "        vertical-align: top;\n",
              "    }\n",
              "\n",
              "    .dataframe thead th {\n",
              "        text-align: right;\n",
              "    }\n",
              "</style>\n",
              "<table border=\"1\" class=\"dataframe\">\n",
              "  <thead>\n",
              "    <tr style=\"text-align: right;\">\n",
              "      <th></th>\n",
              "      <th>Year</th>\n",
              "      <th>School</th>\n",
              "      <th>gradTotal</th>\n",
              "      <th>Type</th>\n",
              "      <th>Ownership</th>\n",
              "    </tr>\n",
              "  </thead>\n",
              "  <tbody>\n",
              "    <tr>\n",
              "      <th>0</th>\n",
              "      <td>103</td>\n",
              "      <td>世新大學</td>\n",
              "      <td>267</td>\n",
              "      <td>General</td>\n",
              "      <td>Private</td>\n",
              "    </tr>\n",
              "    <tr>\n",
              "      <th>1</th>\n",
              "      <td>103</td>\n",
              "      <td>中原大學</td>\n",
              "      <td>706</td>\n",
              "      <td>General</td>\n",
              "      <td>Private</td>\n",
              "    </tr>\n",
              "    <tr>\n",
              "      <th>2</th>\n",
              "      <td>103</td>\n",
              "      <td>中國文化大學</td>\n",
              "      <td>509</td>\n",
              "      <td>General</td>\n",
              "      <td>Private</td>\n",
              "    </tr>\n",
              "    <tr>\n",
              "      <th>3</th>\n",
              "      <td>103</td>\n",
              "      <td>中國科技大學</td>\n",
              "      <td>48</td>\n",
              "      <td>Tech</td>\n",
              "      <td>Private</td>\n",
              "    </tr>\n",
              "    <tr>\n",
              "      <th>4</th>\n",
              "      <td>103</td>\n",
              "      <td>中國醫藥大學</td>\n",
              "      <td>214</td>\n",
              "      <td>General</td>\n",
              "      <td>Private</td>\n",
              "    </tr>\n",
              "  </tbody>\n",
              "</table>\n",
              "</div>\n",
              "    <div class=\"colab-df-buttons\">\n",
              "\n",
              "  <div class=\"colab-df-container\">\n",
              "    <button class=\"colab-df-convert\" onclick=\"convertToInteractive('df-1ddd1b42-1fcc-48e0-b6f1-ce551ecfe08a')\"\n",
              "            title=\"Convert this dataframe to an interactive table.\"\n",
              "            style=\"display:none;\">\n",
              "\n",
              "  <svg xmlns=\"http://www.w3.org/2000/svg\" height=\"24px\" viewBox=\"0 -960 960 960\">\n",
              "    <path d=\"M120-120v-720h720v720H120Zm60-500h600v-160H180v160Zm220 220h160v-160H400v160Zm0 220h160v-160H400v160ZM180-400h160v-160H180v160Zm440 0h160v-160H620v160ZM180-180h160v-160H180v160Zm440 0h160v-160H620v160Z\"/>\n",
              "  </svg>\n",
              "    </button>\n",
              "\n",
              "  <style>\n",
              "    .colab-df-container {\n",
              "      display:flex;\n",
              "      gap: 12px;\n",
              "    }\n",
              "\n",
              "    .colab-df-convert {\n",
              "      background-color: #E8F0FE;\n",
              "      border: none;\n",
              "      border-radius: 50%;\n",
              "      cursor: pointer;\n",
              "      display: none;\n",
              "      fill: #1967D2;\n",
              "      height: 32px;\n",
              "      padding: 0 0 0 0;\n",
              "      width: 32px;\n",
              "    }\n",
              "\n",
              "    .colab-df-convert:hover {\n",
              "      background-color: #E2EBFA;\n",
              "      box-shadow: 0px 1px 2px rgba(60, 64, 67, 0.3), 0px 1px 3px 1px rgba(60, 64, 67, 0.15);\n",
              "      fill: #174EA6;\n",
              "    }\n",
              "\n",
              "    .colab-df-buttons div {\n",
              "      margin-bottom: 4px;\n",
              "    }\n",
              "\n",
              "    [theme=dark] .colab-df-convert {\n",
              "      background-color: #3B4455;\n",
              "      fill: #D2E3FC;\n",
              "    }\n",
              "\n",
              "    [theme=dark] .colab-df-convert:hover {\n",
              "      background-color: #434B5C;\n",
              "      box-shadow: 0px 1px 3px 1px rgba(0, 0, 0, 0.15);\n",
              "      filter: drop-shadow(0px 1px 2px rgba(0, 0, 0, 0.3));\n",
              "      fill: #FFFFFF;\n",
              "    }\n",
              "  </style>\n",
              "\n",
              "    <script>\n",
              "      const buttonEl =\n",
              "        document.querySelector('#df-1ddd1b42-1fcc-48e0-b6f1-ce551ecfe08a button.colab-df-convert');\n",
              "      buttonEl.style.display =\n",
              "        google.colab.kernel.accessAllowed ? 'block' : 'none';\n",
              "\n",
              "      async function convertToInteractive(key) {\n",
              "        const element = document.querySelector('#df-1ddd1b42-1fcc-48e0-b6f1-ce551ecfe08a');\n",
              "        const dataTable =\n",
              "          await google.colab.kernel.invokeFunction('convertToInteractive',\n",
              "                                                    [key], {});\n",
              "        if (!dataTable) return;\n",
              "\n",
              "        const docLinkHtml = 'Like what you see? Visit the ' +\n",
              "          '<a target=\"_blank\" href=https://colab.research.google.com/notebooks/data_table.ipynb>data table notebook</a>'\n",
              "          + ' to learn more about interactive tables.';\n",
              "        element.innerHTML = '';\n",
              "        dataTable['output_type'] = 'display_data';\n",
              "        await google.colab.output.renderOutput(dataTable, element);\n",
              "        const docLink = document.createElement('div');\n",
              "        docLink.innerHTML = docLinkHtml;\n",
              "        element.appendChild(docLink);\n",
              "      }\n",
              "    </script>\n",
              "  </div>\n",
              "\n",
              "\n",
              "<div id=\"df-c98048fa-e397-4d1f-857b-894cd9d8d0aa\">\n",
              "  <button class=\"colab-df-quickchart\" onclick=\"quickchart('df-c98048fa-e397-4d1f-857b-894cd9d8d0aa')\"\n",
              "            title=\"Suggest charts\"\n",
              "            style=\"display:none;\">\n",
              "\n",
              "<svg xmlns=\"http://www.w3.org/2000/svg\" height=\"24px\"viewBox=\"0 0 24 24\"\n",
              "     width=\"24px\">\n",
              "    <g>\n",
              "        <path d=\"M19 3H5c-1.1 0-2 .9-2 2v14c0 1.1.9 2 2 2h14c1.1 0 2-.9 2-2V5c0-1.1-.9-2-2-2zM9 17H7v-7h2v7zm4 0h-2V7h2v10zm4 0h-2v-4h2v4z\"/>\n",
              "    </g>\n",
              "</svg>\n",
              "  </button>\n",
              "\n",
              "<style>\n",
              "  .colab-df-quickchart {\n",
              "      --bg-color: #E8F0FE;\n",
              "      --fill-color: #1967D2;\n",
              "      --hover-bg-color: #E2EBFA;\n",
              "      --hover-fill-color: #174EA6;\n",
              "      --disabled-fill-color: #AAA;\n",
              "      --disabled-bg-color: #DDD;\n",
              "  }\n",
              "\n",
              "  [theme=dark] .colab-df-quickchart {\n",
              "      --bg-color: #3B4455;\n",
              "      --fill-color: #D2E3FC;\n",
              "      --hover-bg-color: #434B5C;\n",
              "      --hover-fill-color: #FFFFFF;\n",
              "      --disabled-bg-color: #3B4455;\n",
              "      --disabled-fill-color: #666;\n",
              "  }\n",
              "\n",
              "  .colab-df-quickchart {\n",
              "    background-color: var(--bg-color);\n",
              "    border: none;\n",
              "    border-radius: 50%;\n",
              "    cursor: pointer;\n",
              "    display: none;\n",
              "    fill: var(--fill-color);\n",
              "    height: 32px;\n",
              "    padding: 0;\n",
              "    width: 32px;\n",
              "  }\n",
              "\n",
              "  .colab-df-quickchart:hover {\n",
              "    background-color: var(--hover-bg-color);\n",
              "    box-shadow: 0 1px 2px rgba(60, 64, 67, 0.3), 0 1px 3px 1px rgba(60, 64, 67, 0.15);\n",
              "    fill: var(--button-hover-fill-color);\n",
              "  }\n",
              "\n",
              "  .colab-df-quickchart-complete:disabled,\n",
              "  .colab-df-quickchart-complete:disabled:hover {\n",
              "    background-color: var(--disabled-bg-color);\n",
              "    fill: var(--disabled-fill-color);\n",
              "    box-shadow: none;\n",
              "  }\n",
              "\n",
              "  .colab-df-spinner {\n",
              "    border: 2px solid var(--fill-color);\n",
              "    border-color: transparent;\n",
              "    border-bottom-color: var(--fill-color);\n",
              "    animation:\n",
              "      spin 1s steps(1) infinite;\n",
              "  }\n",
              "\n",
              "  @keyframes spin {\n",
              "    0% {\n",
              "      border-color: transparent;\n",
              "      border-bottom-color: var(--fill-color);\n",
              "      border-left-color: var(--fill-color);\n",
              "    }\n",
              "    20% {\n",
              "      border-color: transparent;\n",
              "      border-left-color: var(--fill-color);\n",
              "      border-top-color: var(--fill-color);\n",
              "    }\n",
              "    30% {\n",
              "      border-color: transparent;\n",
              "      border-left-color: var(--fill-color);\n",
              "      border-top-color: var(--fill-color);\n",
              "      border-right-color: var(--fill-color);\n",
              "    }\n",
              "    40% {\n",
              "      border-color: transparent;\n",
              "      border-right-color: var(--fill-color);\n",
              "      border-top-color: var(--fill-color);\n",
              "    }\n",
              "    60% {\n",
              "      border-color: transparent;\n",
              "      border-right-color: var(--fill-color);\n",
              "    }\n",
              "    80% {\n",
              "      border-color: transparent;\n",
              "      border-right-color: var(--fill-color);\n",
              "      border-bottom-color: var(--fill-color);\n",
              "    }\n",
              "    90% {\n",
              "      border-color: transparent;\n",
              "      border-bottom-color: var(--fill-color);\n",
              "    }\n",
              "  }\n",
              "</style>\n",
              "\n",
              "  <script>\n",
              "    async function quickchart(key) {\n",
              "      const quickchartButtonEl =\n",
              "        document.querySelector('#' + key + ' button');\n",
              "      quickchartButtonEl.disabled = true;  // To prevent multiple clicks.\n",
              "      quickchartButtonEl.classList.add('colab-df-spinner');\n",
              "      try {\n",
              "        const charts = await google.colab.kernel.invokeFunction(\n",
              "            'suggestCharts', [key], {});\n",
              "      } catch (error) {\n",
              "        console.error('Error during call to suggestCharts:', error);\n",
              "      }\n",
              "      quickchartButtonEl.classList.remove('colab-df-spinner');\n",
              "      quickchartButtonEl.classList.add('colab-df-quickchart-complete');\n",
              "    }\n",
              "    (() => {\n",
              "      let quickchartButtonEl =\n",
              "        document.querySelector('#df-c98048fa-e397-4d1f-857b-894cd9d8d0aa button');\n",
              "      quickchartButtonEl.style.display =\n",
              "        google.colab.kernel.accessAllowed ? 'block' : 'none';\n",
              "    })();\n",
              "  </script>\n",
              "</div>\n",
              "\n",
              "    </div>\n",
              "  </div>\n"
            ],
            "application/vnd.google.colaboratory.intrinsic+json": {
              "type": "dataframe",
              "variable_name": "df",
              "summary": "{\n  \"name\": \"df\",\n  \"rows\": 1302,\n  \"fields\": [\n    {\n      \"column\": \"Year\",\n      \"properties\": {\n        \"dtype\": \"number\",\n        \"std\": 2,\n        \"min\": 103,\n        \"max\": 112,\n        \"num_unique_values\": 10,\n        \"samples\": [\n          111,\n          104,\n          108\n        ],\n        \"semantic_type\": \"\",\n        \"description\": \"\"\n      }\n    },\n    {\n      \"column\": \"School\",\n      \"properties\": {\n        \"dtype\": \"category\",\n        \"num_unique_values\": 135,\n        \"samples\": [\n          \"\\u6cd5\\u9f13\\u6587\\u7406\\u5b78\\u9662\",\n          \"\\u570b\\u7acb\\u9ad4\\u80b2\\u5927\\u5b78\",\n          \"\\u7f8e\\u548c\\u79d1\\u6280\\u5927\\u5b78\"\n        ],\n        \"semantic_type\": \"\",\n        \"description\": \"\"\n      }\n    },\n    {\n      \"column\": \"gradTotal\",\n      \"properties\": {\n        \"dtype\": \"number\",\n        \"std\": 510,\n        \"min\": 1,\n        \"max\": 3711,\n        \"num_unique_values\": 529,\n        \"samples\": [\n          500,\n          945,\n          30\n        ],\n        \"semantic_type\": \"\",\n        \"description\": \"\"\n      }\n    },\n    {\n      \"column\": \"Type\",\n      \"properties\": {\n        \"dtype\": \"category\",\n        \"num_unique_values\": 2,\n        \"samples\": [\n          \"Tech\",\n          \"General\"\n        ],\n        \"semantic_type\": \"\",\n        \"description\": \"\"\n      }\n    },\n    {\n      \"column\": \"Ownership\",\n      \"properties\": {\n        \"dtype\": \"category\",\n        \"num_unique_values\": 2,\n        \"samples\": [\n          \"Public\",\n          \"Private\"\n        ],\n        \"semantic_type\": \"\",\n        \"description\": \"\"\n      }\n    }\n  ]\n}"
            }
          },
          "metadata": {},
          "execution_count": 47
        }
      ],
      "source": [
        "# GitHub filepath\n",
        "url = \"https://raw.githubusercontent.com/YiHsiu7893/Statistics_Final/refs/heads/main/data/graduates.csv\"\n",
        "\n",
        "df = pd.read_csv(url)\n",
        "df.head()"
      ]
    },
    {
      "cell_type": "markdown",
      "source": [
        "split into four categories\n",
        "\n",
        "(general, public), (general, private), (tech, public), (tech, private)"
      ],
      "metadata": {
        "id": "H_RnsLWDRZOS"
      }
    },
    {
      "cell_type": "code",
      "source": [
        "general_public = df[(df['Type'] == 'General') & (df['Ownership'] == 'Public')]\n",
        "general_private = df[(df['Type'] == 'General') & (df['Ownership'] == 'Private')]\n",
        "tech_public = df[(df['Type'] == 'Tech') & (df['Ownership'] == 'Public')]\n",
        "tech_private = df[(df['Type'] == 'Tech') & (df['Ownership'] == 'Private')]"
      ],
      "metadata": {
        "id": "bbhA6AQmsV_2"
      },
      "execution_count": 48,
      "outputs": []
    },
    {
      "cell_type": "markdown",
      "source": [
        "## statistical test (6 years)"
      ],
      "metadata": {
        "id": "7gkzTnzcKwta"
      }
    },
    {
      "cell_type": "markdown",
      "source": [
        "1. general, public"
      ],
      "metadata": {
        "id": "pJWOv-zIJ4XN"
      }
    },
    {
      "cell_type": "code",
      "source": [
        "z_test(general_public, 107, 112)"
      ],
      "metadata": {
        "colab": {
          "base_uri": "https://localhost:8080/"
        },
        "outputId": "26a15eff-a8cc-4c87-e3eb-8bca47ca853f",
        "id": "zgs5VbvcJ4XO"
      },
      "execution_count": 49,
      "outputs": [
        {
          "output_type": "stream",
          "name": "stdout",
          "text": [
            "1. Analyze Statistical Measures\n",
            "Calculate the average total number of master's graduates per school for the 107th and 112th academic years, µ_107 & µ_112\n",
            "number of schools in year 107: 31\n",
            "number of schools in year 112: 31\n",
            "mean number of master's graduates in year 107:  703.5806451612904\n",
            "mean number of master's graduates in year 112:  720.1290322580645\n",
            "std of master's graduates in year 107:  826.32571359376\n",
            "std of master's graduates in year 112:  864.0040023802159\n",
            "\n",
            "2. Hypothesis\n",
            "H0: µ107 - µ112 ≧ 0\n",
            "Ha: µ107 - µ112 < 0\n",
            "\n",
            "3. Perform 1-sided, 2-sample z-test\n",
            "the test statistic is -0.07706766896695796, p-value is 0.46928485645387435\n",
            "Since the p-value is greater than 0.05, H0 is not rejected.\n",
            "There is insufficient evidence to indicate that there is a difference in the mean number of master's graduates in year 107 and year 112 at alpha = 0.05.\n"
          ]
        }
      ]
    },
    {
      "cell_type": "markdown",
      "source": [
        "2. general, private"
      ],
      "metadata": {
        "id": "3p-UpQXlJ4XO"
      }
    },
    {
      "cell_type": "code",
      "source": [
        "z_test(general_private, 107, 112)"
      ],
      "metadata": {
        "colab": {
          "base_uri": "https://localhost:8080/"
        },
        "outputId": "289cca7d-da1c-4eb3-ee7f-97658c0aeba6",
        "id": "_LTnqb5uJ4XO"
      },
      "execution_count": 50,
      "outputs": [
        {
          "output_type": "stream",
          "name": "stdout",
          "text": [
            "1. Analyze Statistical Measures\n",
            "Calculate the average total number of master's graduates per school for the 107th and 112th academic years, µ_107 & µ_112\n",
            "number of schools in year 107: 36\n",
            "number of schools in year 112: 34\n",
            "mean number of master's graduates in year 107:  219.80555555555554\n",
            "mean number of master's graduates in year 112:  207.3235294117647\n",
            "std of master's graduates in year 107:  182.67219969027184\n",
            "std of master's graduates in year 112:  171.19078858471528\n",
            "\n",
            "2. Hypothesis\n",
            "H0: µ107 - µ112 ≧ 0\n",
            "Ha: µ107 - µ112 < 0\n",
            "\n",
            "3. Perform 1-sided, 2-sample z-test\n",
            "the test statistic is 0.2951180039260874, p-value is 0.6160481316165864\n",
            "Since the p-value is greater than 0.05, H0 is not rejected.\n",
            "There is insufficient evidence to indicate that there is a difference in the mean number of master's graduates in year 107 and year 112 at alpha = 0.05.\n"
          ]
        }
      ]
    },
    {
      "cell_type": "markdown",
      "source": [
        "3. tech, public"
      ],
      "metadata": {
        "id": "1r90C8hoJ4XO"
      }
    },
    {
      "cell_type": "code",
      "source": [
        "u_test(tech_public, 107, 112)"
      ],
      "metadata": {
        "colab": {
          "base_uri": "https://localhost:8080/"
        },
        "outputId": "5e8e6435-bfd3-4ee3-c862-d36cfcd375cf",
        "id": "Z17gLK6yJ4XO"
      },
      "execution_count": 51,
      "outputs": [
        {
          "output_type": "stream",
          "name": "stdout",
          "text": [
            "1. Analyze Statistical Measures\n",
            "Calculate the average total number of master's graduates per school for the 107th and 112th academic years, µ_107 & µ_112\n",
            "number of schools in year 107: 12\n",
            "number of schools in year 112: 12\n",
            "mean number of master's graduates in year 107:  474.0833333333333\n",
            "mean number of master's graduates in year 112:  511.6666666666667\n",
            "std of master's graduates in year 107:  471.479963583402\n",
            "std of master's graduates in year 112:  516.6362063357249\n",
            "\n",
            "2. Hypothesis\n",
            "H0: µ107 - µ112 ≧ 0\n",
            "Ha: µ107 - µ112 < 0\n",
            "\n",
            "3. Perform 1-sided, 2-sample u-test\n",
            "the test statistic is 68.0, p-value is 0.4199299862700017\n",
            "Since the p-value is greater than 0.05, H0 is not rejected.\n",
            "There is insufficient evidence to indicate that there is a difference in the mean number of master's graduates in year 107 and year 112 at alpha = 0.05.\n"
          ]
        }
      ]
    },
    {
      "cell_type": "markdown",
      "source": [
        "4. tech, private"
      ],
      "metadata": {
        "id": "8kjIZEwCJ4XO"
      }
    },
    {
      "cell_type": "code",
      "source": [
        "z_test(tech_private, 107, 112)"
      ],
      "metadata": {
        "colab": {
          "base_uri": "https://localhost:8080/"
        },
        "outputId": "81c1ac4f-eb40-4b6a-99fe-cb1084e6a30d",
        "id": "mJOzisiyJ4XO"
      },
      "execution_count": 52,
      "outputs": [
        {
          "output_type": "stream",
          "name": "stdout",
          "text": [
            "1. Analyze Statistical Measures\n",
            "Calculate the average total number of master's graduates per school for the 107th and 112th academic years, µ_107 & µ_112\n",
            "number of schools in year 107: 54\n",
            "number of schools in year 112: 48\n",
            "mean number of master's graduates in year 107:  55.96296296296296\n",
            "mean number of master's graduates in year 112:  51.395833333333336\n",
            "std of master's graduates in year 107:  59.123140750363405\n",
            "std of master's graduates in year 112:  51.973290842440484\n",
            "\n",
            "2. Hypothesis\n",
            "H0: µ107 - µ112 ≧ 0\n",
            "Ha: µ107 - µ112 < 0\n",
            "\n",
            "3. Perform 1-sided, 2-sample z-test\n",
            "the test statistic is 0.41518020825496166, p-value is 0.6609950068699776\n",
            "Since the p-value is greater than 0.05, H0 is not rejected.\n",
            "There is insufficient evidence to indicate that there is a difference in the mean number of master's graduates in year 107 and year 112 at alpha = 0.05.\n"
          ]
        }
      ]
    },
    {
      "cell_type": "markdown",
      "source": [
        "## statistical test (10 years)"
      ],
      "metadata": {
        "id": "VLz8BuUPLOuV"
      }
    },
    {
      "cell_type": "markdown",
      "source": [
        "1. general, public"
      ],
      "metadata": {
        "id": "tZz5yhLFLOuX"
      }
    },
    {
      "cell_type": "code",
      "source": [
        "z_test(general_public, 103, 112)"
      ],
      "metadata": {
        "colab": {
          "base_uri": "https://localhost:8080/"
        },
        "outputId": "e704b832-14a1-460d-bd5a-2a671b70d30f",
        "id": "Bu5EFxxkLOuX"
      },
      "execution_count": 53,
      "outputs": [
        {
          "output_type": "stream",
          "name": "stdout",
          "text": [
            "1. Analyze Statistical Measures\n",
            "Calculate the average total number of master's graduates per school for the 103th and 112th academic years, µ_103 & µ_112\n",
            "number of schools in year 103: 31\n",
            "number of schools in year 112: 31\n",
            "mean number of master's graduates in year 103:  741.4193548387096\n",
            "mean number of master's graduates in year 112:  720.1290322580645\n",
            "std of master's graduates in year 103:  820.7034695590341\n",
            "std of master's graduates in year 112:  864.0040023802159\n",
            "\n",
            "2. Hypothesis\n",
            "H0: µ103 - µ112 ≧ 0\n",
            "Ha: µ103 - µ112 < 0\n",
            "\n",
            "3. Perform 1-sided, 2-sample z-test\n",
            "the test statistic is 0.0994741380578472, p-value is 0.5396190895605151\n",
            "Since the p-value is greater than 0.05, H0 is not rejected.\n",
            "There is insufficient evidence to indicate that there is a difference in the mean number of master's graduates in year 103 and year 112 at alpha = 0.05.\n"
          ]
        }
      ]
    },
    {
      "cell_type": "markdown",
      "source": [
        "2. general, private"
      ],
      "metadata": {
        "id": "qqVzhWStLOuY"
      }
    },
    {
      "cell_type": "code",
      "source": [
        "z_test(general_private, 103, 112)"
      ],
      "metadata": {
        "colab": {
          "base_uri": "https://localhost:8080/"
        },
        "outputId": "aac17f19-df4b-40fc-a0e6-967fdd6d987e",
        "id": "_pYu06GJLOuY"
      },
      "execution_count": 54,
      "outputs": [
        {
          "output_type": "stream",
          "name": "stdout",
          "text": [
            "1. Analyze Statistical Measures\n",
            "Calculate the average total number of master's graduates per school for the 103th and 112th academic years, µ_103 & µ_112\n",
            "number of schools in year 103: 34\n",
            "number of schools in year 112: 34\n",
            "mean number of master's graduates in year 103:  279.94117647058823\n",
            "mean number of master's graduates in year 112:  207.3235294117647\n",
            "std of master's graduates in year 103:  209.82343821131232\n",
            "std of master's graduates in year 112:  171.19078858471528\n",
            "\n",
            "2. Hypothesis\n",
            "H0: µ103 - µ112 ≧ 0\n",
            "Ha: µ103 - µ112 < 0\n",
            "\n",
            "3. Perform 1-sided, 2-sample z-test\n",
            "the test statistic is 1.5636314206034825, p-value is 0.9410479242243955\n",
            "Since the p-value is greater than 0.05, H0 is not rejected.\n",
            "There is insufficient evidence to indicate that there is a difference in the mean number of master's graduates in year 103 and year 112 at alpha = 0.05.\n"
          ]
        }
      ]
    },
    {
      "cell_type": "markdown",
      "source": [
        "3. tech, public"
      ],
      "metadata": {
        "id": "JCjEh7kzLOuY"
      }
    },
    {
      "cell_type": "code",
      "source": [
        "u_test(tech_public, 103, 112)"
      ],
      "metadata": {
        "colab": {
          "base_uri": "https://localhost:8080/"
        },
        "outputId": "7f934bef-bc59-4bc9-8bf6-4c061cc674a5",
        "id": "_YYPGLrdLOuY"
      },
      "execution_count": 55,
      "outputs": [
        {
          "output_type": "stream",
          "name": "stdout",
          "text": [
            "1. Analyze Statistical Measures\n",
            "Calculate the average total number of master's graduates per school for the 103th and 112th academic years, µ_103 & µ_112\n",
            "number of schools in year 103: 12\n",
            "number of schools in year 112: 12\n",
            "mean number of master's graduates in year 103:  526.75\n",
            "mean number of master's graduates in year 112:  511.6666666666667\n",
            "std of master's graduates in year 103:  473.25509650043534\n",
            "std of master's graduates in year 112:  516.6362063357249\n",
            "\n",
            "2. Hypothesis\n",
            "H0: µ103 - µ112 ≧ 0\n",
            "Ha: µ103 - µ112 < 0\n",
            "\n",
            "3. Perform 1-sided, 2-sample u-test\n",
            "the test statistic is 75.0, p-value is 0.5800700137299983\n",
            "Since the p-value is greater than 0.05, H0 is not rejected.\n",
            "There is insufficient evidence to indicate that there is a difference in the mean number of master's graduates in year 103 and year 112 at alpha = 0.05.\n"
          ]
        }
      ]
    },
    {
      "cell_type": "markdown",
      "source": [
        "4. tech, private"
      ],
      "metadata": {
        "id": "WRsNylTxLOuY"
      }
    },
    {
      "cell_type": "code",
      "source": [
        "z_test(tech_private, 103, 112)"
      ],
      "metadata": {
        "colab": {
          "base_uri": "https://localhost:8080/"
        },
        "outputId": "d283086b-a6fd-47cc-d01a-f178ba9cf8ae",
        "id": "H9TK3iTvLOuY"
      },
      "execution_count": 56,
      "outputs": [
        {
          "output_type": "stream",
          "name": "stdout",
          "text": [
            "1. Analyze Statistical Measures\n",
            "Calculate the average total number of master's graduates per school for the 103th and 112th academic years, µ_103 & µ_112\n",
            "number of schools in year 103: 48\n",
            "number of schools in year 112: 48\n",
            "mean number of master's graduates in year 103:  68.33333333333333\n",
            "mean number of master's graduates in year 112:  51.395833333333336\n",
            "std of master's graduates in year 103:  78.06961795876133\n",
            "std of master's graduates in year 112:  51.973290842440484\n",
            "\n",
            "2. Hypothesis\n",
            "H0: µ103 - µ112 ≧ 0\n",
            "Ha: µ103 - µ112 < 0\n",
            "\n",
            "3. Perform 1-sided, 2-sample z-test\n",
            "the test statistic is 1.2511953997290648, p-value is 0.8945684019033711\n",
            "Since the p-value is greater than 0.05, H0 is not rejected.\n",
            "There is insufficient evidence to indicate that there is a difference in the mean number of master's graduates in year 103 and year 112 at alpha = 0.05.\n"
          ]
        }
      ]
    },
    {
      "cell_type": "markdown",
      "source": [
        "# Recent Changes in the Proportion of Female Students in Computer Science"
      ],
      "metadata": {
        "id": "oKNXBAcTjo8P"
      }
    },
    {
      "cell_type": "markdown",
      "source": [
        "## function"
      ],
      "metadata": {
        "id": "0aUjmgpPL1tc"
      }
    },
    {
      "cell_type": "markdown",
      "source": [
        "### if n >= 30 -> perform 1-sided, 2-sample z-test"
      ],
      "metadata": {
        "id": "EHhBqJsld1c-"
      }
    },
    {
      "cell_type": "code",
      "source": [
        "def z_test (data, year1, year2):\n",
        "  df1 = data[data['Year'] == year1]\n",
        "  df2 = data[data['Year'] == year2]\n",
        "  df_n1 = len(df1['School'].unique())\n",
        "  df_n2 = len(df2['School'].unique())\n",
        "\n",
        "  print(\"1. Analyze Statistical Measures\")\n",
        "  print(f\"Calculate the average female student ratio (µ{year1} & µ{year2}) for each school in the academic years {year1} and {year2}\")\n",
        "\n",
        "  df1_proportion = df1['Female'] / df1['Total']\n",
        "  df2_proportion = df2['Female']  / df2['Total']\n",
        "\n",
        "  df1_mean = df1_proportion.mean()\n",
        "  df2_mean = df2_proportion.mean()\n",
        "  df1_std = df1_proportion.std()\n",
        "  df2_std = df2_proportion.std()\n",
        "\n",
        "  print(f\"number of schools in year {year1}:\", df_n1)\n",
        "  print(f\"number of schools in year {year2}:\", df_n2)\n",
        "  print(f'mean number of female student ratio in year {year1}: ', df1_mean)\n",
        "  print(f'mean number of female student ratio in year {year2}: ', df2_mean)\n",
        "  print(f'std of female student ratio in year {year1}: ', df1_std)\n",
        "  print(f'std of female student ratio in year {year2}: ', df2_std)\n",
        "\n",
        "\n",
        "  print(\"\\n2. Hypothesis\")\n",
        "  print(f\"H0: µ{year1} - µ{year2} ≧ 0\")\n",
        "  print(f\"Ha: µ{year1} - µ{year2} < 0\")\n",
        "\n",
        "\n",
        "  print(\"\\n3. Perform 1-sided, 2-sample z-test\")\n",
        "  z = (df1_mean - df2_mean) / math.sqrt(df1_std**2 / df_n1 + df2_std**2 / df_n2)\n",
        "  p_value = stats.norm.cdf(z)\n",
        "  print(f\"the test statistic is {z}, p-value is {p_value}\")\n",
        "\n",
        "  alpha = 0.05\n",
        "  if p_value < alpha:\n",
        "    print(f\"Since the p-value is less than 0.05, H0 is rejected.\")\n",
        "    print(f\"There is sufficient evidence to indicate that there is a difference in the mean number of female student ratio in year {year1} and year {year2} at alpha = 0.05.\")\n",
        "  else:\n",
        "    print(f\"Since the p-value is greater than 0.05, H0 is not rejected.\")\n",
        "    print(f\"There is insufficient evidence to indicate that there is a difference in the mean number of female student ratio in year {year1} and year {year2} at alpha = 0.05.\")"
      ],
      "metadata": {
        "id": "1nL_W9Qvd1c_"
      },
      "execution_count": 57,
      "outputs": []
    },
    {
      "cell_type": "markdown",
      "source": [
        "### if n < 30, data is not normally distributed -> perform 1-sided, 2-sample Mann-Whitney U-test"
      ],
      "metadata": {
        "id": "jIP42KnKcZtd"
      }
    },
    {
      "cell_type": "code",
      "source": [
        "def u_test(data, year1, year2):\n",
        "  df1 = data[data['Year'] == year1]\n",
        "  df2 = data[data['Year'] == year2]\n",
        "  df_n1 = len(df1['School'].unique())\n",
        "  df_n2 = len(df2['School'].unique())\n",
        "\n",
        "  print(\"1. Analyze Statistical Measures\")\n",
        "  print(f\"Calculate the average female student ratio (µ{year1} & µ{year2}) for each school in the academic years {year1} and {year2}\")\n",
        "\n",
        "  df1_proportion = df1['Female'] / df1['Total']\n",
        "  df2_proportion = df2['Female']  / df2['Total']\n",
        "\n",
        "  df1_mean = df1_proportion.mean()\n",
        "  df2_mean = df2_proportion.mean()\n",
        "  df1_std = df1_proportion.std()\n",
        "  df2_std = df2_proportion.std()\n",
        "\n",
        "  print(f\"number of schools in year {year1}:\", df_n1)\n",
        "  print(f\"number of schools in year {year2}:\", df_n2)\n",
        "  print(f'mean number of female student ratio in year {year1}: ', df1_mean)\n",
        "  print(f'mean number of female student ratio in year {year2}: ', df2_mean)\n",
        "  print(f'std of female student ratio in year {year1}: ', df1_std)\n",
        "  print(f'std of female student ratio in year {year2}: ', df2_std)\n",
        "\n",
        "\n",
        "  print(\"\\n2. Hypothesis\")\n",
        "  print(f\"H0: µ{year1} - µ{year2} ≧ 0\")\n",
        "  print(f\"Ha: µ{year1} - µ{year2} < 0\")\n",
        "\n",
        "\n",
        "  print(\"\\n3. Perform 1-sided, 2-sample u-test\")\n",
        "  u, p_value = stats.mannwhitneyu(df1['Total'], df2['Total'], alternative='less')\n",
        "  print(f\"the test statistic is {u}, p-value is {p_value}\")\n",
        "\n",
        "  alpha = 0.05\n",
        "  if p_value < alpha:\n",
        "    print(f\"Since the p-value is less than 0.05, H0 is rejected.\")\n",
        "    print(f\"There is sufficient evidence to indicate that there is a difference in the mean number of female student ratio in year {year1} and year {year2} at alpha = 0.05.\")\n",
        "  else:\n",
        "    print(f\"Since the p-value is greater than 0.05, H0 is not rejected.\")\n",
        "    print(f\"There is insufficient evidence to indicate that there is a difference in the mean number of female student ratio in year {year1} and year {year2} at alpha = 0.05.\")"
      ],
      "metadata": {
        "id": "kraBk-wxcZtd"
      },
      "execution_count": 58,
      "outputs": []
    },
    {
      "cell_type": "markdown",
      "source": [
        "## load data"
      ],
      "metadata": {
        "id": "V2pYTGA1MKsj"
      }
    },
    {
      "cell_type": "code",
      "source": [
        "# GitHub filepath\n",
        "url = \"https://raw.githubusercontent.com/YiHsiu7893/Statistics_Final/refs/heads/main/data/cs_students.csv\"\n",
        "\n",
        "df = pd.read_csv(url)\n",
        "df.head()"
      ],
      "metadata": {
        "colab": {
          "base_uri": "https://localhost:8080/",
          "height": 206
        },
        "id": "0Ja2dPnzjtPb",
        "outputId": "cc514824-5d0e-4937-93cf-ef2ea2e9bb02"
      },
      "execution_count": 59,
      "outputs": [
        {
          "output_type": "execute_result",
          "data": {
            "text/plain": [
              "   Year  School  Total  Male  Female     Type Ownership\n",
              "0   103    中原大學    442   372      70  General   Private\n",
              "1   103  中國文化大學    459   396      63  General   Private\n",
              "2   103  中國科技大學    178   170       8     Tech   Private\n",
              "3   103    中華大學    393   341      52  General   Private\n",
              "4   103  中華科技大學    348   316      32     Tech   Private"
            ],
            "text/html": [
              "\n",
              "  <div id=\"df-3f223b83-8478-4102-9c93-d608cfcd3295\" class=\"colab-df-container\">\n",
              "    <div>\n",
              "<style scoped>\n",
              "    .dataframe tbody tr th:only-of-type {\n",
              "        vertical-align: middle;\n",
              "    }\n",
              "\n",
              "    .dataframe tbody tr th {\n",
              "        vertical-align: top;\n",
              "    }\n",
              "\n",
              "    .dataframe thead th {\n",
              "        text-align: right;\n",
              "    }\n",
              "</style>\n",
              "<table border=\"1\" class=\"dataframe\">\n",
              "  <thead>\n",
              "    <tr style=\"text-align: right;\">\n",
              "      <th></th>\n",
              "      <th>Year</th>\n",
              "      <th>School</th>\n",
              "      <th>Total</th>\n",
              "      <th>Male</th>\n",
              "      <th>Female</th>\n",
              "      <th>Type</th>\n",
              "      <th>Ownership</th>\n",
              "    </tr>\n",
              "  </thead>\n",
              "  <tbody>\n",
              "    <tr>\n",
              "      <th>0</th>\n",
              "      <td>103</td>\n",
              "      <td>中原大學</td>\n",
              "      <td>442</td>\n",
              "      <td>372</td>\n",
              "      <td>70</td>\n",
              "      <td>General</td>\n",
              "      <td>Private</td>\n",
              "    </tr>\n",
              "    <tr>\n",
              "      <th>1</th>\n",
              "      <td>103</td>\n",
              "      <td>中國文化大學</td>\n",
              "      <td>459</td>\n",
              "      <td>396</td>\n",
              "      <td>63</td>\n",
              "      <td>General</td>\n",
              "      <td>Private</td>\n",
              "    </tr>\n",
              "    <tr>\n",
              "      <th>2</th>\n",
              "      <td>103</td>\n",
              "      <td>中國科技大學</td>\n",
              "      <td>178</td>\n",
              "      <td>170</td>\n",
              "      <td>8</td>\n",
              "      <td>Tech</td>\n",
              "      <td>Private</td>\n",
              "    </tr>\n",
              "    <tr>\n",
              "      <th>3</th>\n",
              "      <td>103</td>\n",
              "      <td>中華大學</td>\n",
              "      <td>393</td>\n",
              "      <td>341</td>\n",
              "      <td>52</td>\n",
              "      <td>General</td>\n",
              "      <td>Private</td>\n",
              "    </tr>\n",
              "    <tr>\n",
              "      <th>4</th>\n",
              "      <td>103</td>\n",
              "      <td>中華科技大學</td>\n",
              "      <td>348</td>\n",
              "      <td>316</td>\n",
              "      <td>32</td>\n",
              "      <td>Tech</td>\n",
              "      <td>Private</td>\n",
              "    </tr>\n",
              "  </tbody>\n",
              "</table>\n",
              "</div>\n",
              "    <div class=\"colab-df-buttons\">\n",
              "\n",
              "  <div class=\"colab-df-container\">\n",
              "    <button class=\"colab-df-convert\" onclick=\"convertToInteractive('df-3f223b83-8478-4102-9c93-d608cfcd3295')\"\n",
              "            title=\"Convert this dataframe to an interactive table.\"\n",
              "            style=\"display:none;\">\n",
              "\n",
              "  <svg xmlns=\"http://www.w3.org/2000/svg\" height=\"24px\" viewBox=\"0 -960 960 960\">\n",
              "    <path d=\"M120-120v-720h720v720H120Zm60-500h600v-160H180v160Zm220 220h160v-160H400v160Zm0 220h160v-160H400v160ZM180-400h160v-160H180v160Zm440 0h160v-160H620v160ZM180-180h160v-160H180v160Zm440 0h160v-160H620v160Z\"/>\n",
              "  </svg>\n",
              "    </button>\n",
              "\n",
              "  <style>\n",
              "    .colab-df-container {\n",
              "      display:flex;\n",
              "      gap: 12px;\n",
              "    }\n",
              "\n",
              "    .colab-df-convert {\n",
              "      background-color: #E8F0FE;\n",
              "      border: none;\n",
              "      border-radius: 50%;\n",
              "      cursor: pointer;\n",
              "      display: none;\n",
              "      fill: #1967D2;\n",
              "      height: 32px;\n",
              "      padding: 0 0 0 0;\n",
              "      width: 32px;\n",
              "    }\n",
              "\n",
              "    .colab-df-convert:hover {\n",
              "      background-color: #E2EBFA;\n",
              "      box-shadow: 0px 1px 2px rgba(60, 64, 67, 0.3), 0px 1px 3px 1px rgba(60, 64, 67, 0.15);\n",
              "      fill: #174EA6;\n",
              "    }\n",
              "\n",
              "    .colab-df-buttons div {\n",
              "      margin-bottom: 4px;\n",
              "    }\n",
              "\n",
              "    [theme=dark] .colab-df-convert {\n",
              "      background-color: #3B4455;\n",
              "      fill: #D2E3FC;\n",
              "    }\n",
              "\n",
              "    [theme=dark] .colab-df-convert:hover {\n",
              "      background-color: #434B5C;\n",
              "      box-shadow: 0px 1px 3px 1px rgba(0, 0, 0, 0.15);\n",
              "      filter: drop-shadow(0px 1px 2px rgba(0, 0, 0, 0.3));\n",
              "      fill: #FFFFFF;\n",
              "    }\n",
              "  </style>\n",
              "\n",
              "    <script>\n",
              "      const buttonEl =\n",
              "        document.querySelector('#df-3f223b83-8478-4102-9c93-d608cfcd3295 button.colab-df-convert');\n",
              "      buttonEl.style.display =\n",
              "        google.colab.kernel.accessAllowed ? 'block' : 'none';\n",
              "\n",
              "      async function convertToInteractive(key) {\n",
              "        const element = document.querySelector('#df-3f223b83-8478-4102-9c93-d608cfcd3295');\n",
              "        const dataTable =\n",
              "          await google.colab.kernel.invokeFunction('convertToInteractive',\n",
              "                                                    [key], {});\n",
              "        if (!dataTable) return;\n",
              "\n",
              "        const docLinkHtml = 'Like what you see? Visit the ' +\n",
              "          '<a target=\"_blank\" href=https://colab.research.google.com/notebooks/data_table.ipynb>data table notebook</a>'\n",
              "          + ' to learn more about interactive tables.';\n",
              "        element.innerHTML = '';\n",
              "        dataTable['output_type'] = 'display_data';\n",
              "        await google.colab.output.renderOutput(dataTable, element);\n",
              "        const docLink = document.createElement('div');\n",
              "        docLink.innerHTML = docLinkHtml;\n",
              "        element.appendChild(docLink);\n",
              "      }\n",
              "    </script>\n",
              "  </div>\n",
              "\n",
              "\n",
              "<div id=\"df-3b00980f-b6af-4226-81a4-9a7fe257b0d2\">\n",
              "  <button class=\"colab-df-quickchart\" onclick=\"quickchart('df-3b00980f-b6af-4226-81a4-9a7fe257b0d2')\"\n",
              "            title=\"Suggest charts\"\n",
              "            style=\"display:none;\">\n",
              "\n",
              "<svg xmlns=\"http://www.w3.org/2000/svg\" height=\"24px\"viewBox=\"0 0 24 24\"\n",
              "     width=\"24px\">\n",
              "    <g>\n",
              "        <path d=\"M19 3H5c-1.1 0-2 .9-2 2v14c0 1.1.9 2 2 2h14c1.1 0 2-.9 2-2V5c0-1.1-.9-2-2-2zM9 17H7v-7h2v7zm4 0h-2V7h2v10zm4 0h-2v-4h2v4z\"/>\n",
              "    </g>\n",
              "</svg>\n",
              "  </button>\n",
              "\n",
              "<style>\n",
              "  .colab-df-quickchart {\n",
              "      --bg-color: #E8F0FE;\n",
              "      --fill-color: #1967D2;\n",
              "      --hover-bg-color: #E2EBFA;\n",
              "      --hover-fill-color: #174EA6;\n",
              "      --disabled-fill-color: #AAA;\n",
              "      --disabled-bg-color: #DDD;\n",
              "  }\n",
              "\n",
              "  [theme=dark] .colab-df-quickchart {\n",
              "      --bg-color: #3B4455;\n",
              "      --fill-color: #D2E3FC;\n",
              "      --hover-bg-color: #434B5C;\n",
              "      --hover-fill-color: #FFFFFF;\n",
              "      --disabled-bg-color: #3B4455;\n",
              "      --disabled-fill-color: #666;\n",
              "  }\n",
              "\n",
              "  .colab-df-quickchart {\n",
              "    background-color: var(--bg-color);\n",
              "    border: none;\n",
              "    border-radius: 50%;\n",
              "    cursor: pointer;\n",
              "    display: none;\n",
              "    fill: var(--fill-color);\n",
              "    height: 32px;\n",
              "    padding: 0;\n",
              "    width: 32px;\n",
              "  }\n",
              "\n",
              "  .colab-df-quickchart:hover {\n",
              "    background-color: var(--hover-bg-color);\n",
              "    box-shadow: 0 1px 2px rgba(60, 64, 67, 0.3), 0 1px 3px 1px rgba(60, 64, 67, 0.15);\n",
              "    fill: var(--button-hover-fill-color);\n",
              "  }\n",
              "\n",
              "  .colab-df-quickchart-complete:disabled,\n",
              "  .colab-df-quickchart-complete:disabled:hover {\n",
              "    background-color: var(--disabled-bg-color);\n",
              "    fill: var(--disabled-fill-color);\n",
              "    box-shadow: none;\n",
              "  }\n",
              "\n",
              "  .colab-df-spinner {\n",
              "    border: 2px solid var(--fill-color);\n",
              "    border-color: transparent;\n",
              "    border-bottom-color: var(--fill-color);\n",
              "    animation:\n",
              "      spin 1s steps(1) infinite;\n",
              "  }\n",
              "\n",
              "  @keyframes spin {\n",
              "    0% {\n",
              "      border-color: transparent;\n",
              "      border-bottom-color: var(--fill-color);\n",
              "      border-left-color: var(--fill-color);\n",
              "    }\n",
              "    20% {\n",
              "      border-color: transparent;\n",
              "      border-left-color: var(--fill-color);\n",
              "      border-top-color: var(--fill-color);\n",
              "    }\n",
              "    30% {\n",
              "      border-color: transparent;\n",
              "      border-left-color: var(--fill-color);\n",
              "      border-top-color: var(--fill-color);\n",
              "      border-right-color: var(--fill-color);\n",
              "    }\n",
              "    40% {\n",
              "      border-color: transparent;\n",
              "      border-right-color: var(--fill-color);\n",
              "      border-top-color: var(--fill-color);\n",
              "    }\n",
              "    60% {\n",
              "      border-color: transparent;\n",
              "      border-right-color: var(--fill-color);\n",
              "    }\n",
              "    80% {\n",
              "      border-color: transparent;\n",
              "      border-right-color: var(--fill-color);\n",
              "      border-bottom-color: var(--fill-color);\n",
              "    }\n",
              "    90% {\n",
              "      border-color: transparent;\n",
              "      border-bottom-color: var(--fill-color);\n",
              "    }\n",
              "  }\n",
              "</style>\n",
              "\n",
              "  <script>\n",
              "    async function quickchart(key) {\n",
              "      const quickchartButtonEl =\n",
              "        document.querySelector('#' + key + ' button');\n",
              "      quickchartButtonEl.disabled = true;  // To prevent multiple clicks.\n",
              "      quickchartButtonEl.classList.add('colab-df-spinner');\n",
              "      try {\n",
              "        const charts = await google.colab.kernel.invokeFunction(\n",
              "            'suggestCharts', [key], {});\n",
              "      } catch (error) {\n",
              "        console.error('Error during call to suggestCharts:', error);\n",
              "      }\n",
              "      quickchartButtonEl.classList.remove('colab-df-spinner');\n",
              "      quickchartButtonEl.classList.add('colab-df-quickchart-complete');\n",
              "    }\n",
              "    (() => {\n",
              "      let quickchartButtonEl =\n",
              "        document.querySelector('#df-3b00980f-b6af-4226-81a4-9a7fe257b0d2 button');\n",
              "      quickchartButtonEl.style.display =\n",
              "        google.colab.kernel.accessAllowed ? 'block' : 'none';\n",
              "    })();\n",
              "  </script>\n",
              "</div>\n",
              "\n",
              "    </div>\n",
              "  </div>\n"
            ],
            "application/vnd.google.colaboratory.intrinsic+json": {
              "type": "dataframe",
              "variable_name": "df",
              "summary": "{\n  \"name\": \"df\",\n  \"rows\": 662,\n  \"fields\": [\n    {\n      \"column\": \"Year\",\n      \"properties\": {\n        \"dtype\": \"number\",\n        \"std\": 2,\n        \"min\": 103,\n        \"max\": 112,\n        \"num_unique_values\": 10,\n        \"samples\": [\n          111,\n          104,\n          108\n        ],\n        \"semantic_type\": \"\",\n        \"description\": \"\"\n      }\n    },\n    {\n      \"column\": \"School\",\n      \"properties\": {\n        \"dtype\": \"category\",\n        \"num_unique_values\": 72,\n        \"samples\": [\n          \"\\u4e2d\\u83ef\\u79d1\\u6280\\u5927\\u5b78\",\n          \"\\u9060\\u6771\\u79d1\\u6280\\u5927\\u5b78\",\n          \"\\u570b\\u7acb\\u5b9c\\u862d\\u5927\\u5b78\"\n        ],\n        \"semantic_type\": \"\",\n        \"description\": \"\"\n      }\n    },\n    {\n      \"column\": \"Total\",\n      \"properties\": {\n        \"dtype\": \"number\",\n        \"std\": 182,\n        \"min\": 1,\n        \"max\": 1043,\n        \"num_unique_values\": 391,\n        \"samples\": [\n          466,\n          482,\n          781\n        ],\n        \"semantic_type\": \"\",\n        \"description\": \"\"\n      }\n    },\n    {\n      \"column\": \"Male\",\n      \"properties\": {\n        \"dtype\": \"number\",\n        \"std\": 151,\n        \"min\": 1,\n        \"max\": 828,\n        \"num_unique_values\": 355,\n        \"samples\": [\n          472,\n          376,\n          321\n        ],\n        \"semantic_type\": \"\",\n        \"description\": \"\"\n      }\n    },\n    {\n      \"column\": \"Female\",\n      \"properties\": {\n        \"dtype\": \"number\",\n        \"std\": 42,\n        \"min\": 0,\n        \"max\": 247,\n        \"num_unique_values\": 154,\n        \"samples\": [\n          25,\n          49,\n          247\n        ],\n        \"semantic_type\": \"\",\n        \"description\": \"\"\n      }\n    },\n    {\n      \"column\": \"Type\",\n      \"properties\": {\n        \"dtype\": \"category\",\n        \"num_unique_values\": 2,\n        \"samples\": [\n          \"Tech\",\n          \"General\"\n        ],\n        \"semantic_type\": \"\",\n        \"description\": \"\"\n      }\n    },\n    {\n      \"column\": \"Ownership\",\n      \"properties\": {\n        \"dtype\": \"category\",\n        \"num_unique_values\": 2,\n        \"samples\": [\n          \"Public\",\n          \"Private\"\n        ],\n        \"semantic_type\": \"\",\n        \"description\": \"\"\n      }\n    }\n  ]\n}"
            }
          },
          "metadata": {},
          "execution_count": 59
        }
      ]
    },
    {
      "cell_type": "markdown",
      "source": [
        "split into four categories\n",
        "\n",
        "(general, public), (general, private), (tech, public), (tech, private)"
      ],
      "metadata": {
        "id": "I8oiN_Zpl5cx"
      }
    },
    {
      "cell_type": "code",
      "source": [
        "general_public = df[(df['Type'] == 'General') & (df['Ownership'] == 'Public')]\n",
        "general_private = df[(df['Type'] == 'General') & (df['Ownership'] == 'Private')]\n",
        "tech_public = df[(df['Type'] == 'Tech') & (df['Ownership'] == 'Public')]\n",
        "tech_private = df[(df['Type'] == 'Tech') & (df['Ownership'] == 'Private')]"
      ],
      "metadata": {
        "id": "CcWm24v-l04O"
      },
      "execution_count": 60,
      "outputs": []
    },
    {
      "cell_type": "markdown",
      "source": [
        "## statistical test (6 years)"
      ],
      "metadata": {
        "id": "fBp-xWcfL7n-"
      }
    },
    {
      "cell_type": "markdown",
      "source": [
        "1. general, public"
      ],
      "metadata": {
        "id": "yl0F_tatM268"
      }
    },
    {
      "cell_type": "code",
      "source": [
        "z_test(general_public, 107, 112)"
      ],
      "metadata": {
        "colab": {
          "base_uri": "https://localhost:8080/"
        },
        "outputId": "02ebb060-5161-48e5-af68-0fce24afe2ca",
        "id": "obbrerE-M269"
      },
      "execution_count": 61,
      "outputs": [
        {
          "output_type": "stream",
          "name": "stdout",
          "text": [
            "1. Analyze Statistical Measures\n",
            "Calculate the average female student ratio (µ107 & µ112) for each school in the academic years 107 and 112\n",
            "number of schools in year 107: 22\n",
            "number of schools in year 112: 23\n",
            "mean number of female student ratio in year 107:  0.18806324212459574\n",
            "mean number of female student ratio in year 112:  0.22024074892477066\n",
            "std of female student ratio in year 107:  0.03854424961559331\n",
            "std of female student ratio in year 112:  0.04599962261965814\n",
            "\n",
            "2. Hypothesis\n",
            "H0: µ107 - µ112 ≧ 0\n",
            "Ha: µ107 - µ112 < 0\n",
            "\n",
            "3. Perform 1-sided, 2-sample z-test\n",
            "the test statistic is -2.5476121632992, p-value is 0.00542314897812441\n",
            "Since the p-value is less than 0.05, H0 is rejected.\n",
            "There is sufficient evidence to indicate that there is a difference in the mean number of female student ratio in year 107 and year 112 at alpha = 0.05.\n"
          ]
        }
      ]
    },
    {
      "cell_type": "markdown",
      "source": [
        "2. general, private"
      ],
      "metadata": {
        "id": "rJykGv5CM26-"
      }
    },
    {
      "cell_type": "code",
      "source": [
        "z_test(general_private, 107, 112)"
      ],
      "metadata": {
        "colab": {
          "base_uri": "https://localhost:8080/"
        },
        "outputId": "2af65cd1-38df-47d8-a613-ed1c36341d82",
        "id": "k2z9oSr1M26-"
      },
      "execution_count": 62,
      "outputs": [
        {
          "output_type": "stream",
          "name": "stdout",
          "text": [
            "1. Analyze Statistical Measures\n",
            "Calculate the average female student ratio (µ107 & µ112) for each school in the academic years 107 and 112\n",
            "number of schools in year 107: 18\n",
            "number of schools in year 112: 18\n",
            "mean number of female student ratio in year 107:  0.16819386337942302\n",
            "mean number of female student ratio in year 112:  0.21379035340886318\n",
            "std of female student ratio in year 107:  0.054098584827735434\n",
            "std of female student ratio in year 112:  0.06390164683957125\n",
            "\n",
            "2. Hypothesis\n",
            "H0: µ107 - µ112 ≧ 0\n",
            "Ha: µ107 - µ112 < 0\n",
            "\n",
            "3. Perform 1-sided, 2-sample z-test\n",
            "the test statistic is -2.3105015274622955, p-value is 0.010430202035267053\n",
            "Since the p-value is less than 0.05, H0 is rejected.\n",
            "There is sufficient evidence to indicate that there is a difference in the mean number of female student ratio in year 107 and year 112 at alpha = 0.05.\n"
          ]
        }
      ]
    },
    {
      "cell_type": "markdown",
      "source": [
        "3. tech, public"
      ],
      "metadata": {
        "id": "r5kYWs3NM26_"
      }
    },
    {
      "cell_type": "code",
      "source": [
        "u_test(tech_public, 107, 112)"
      ],
      "metadata": {
        "colab": {
          "base_uri": "https://localhost:8080/"
        },
        "outputId": "c4d3d691-672c-4eb0-c947-356b3ba3f928",
        "id": "Dz4ndavLM26_"
      },
      "execution_count": 63,
      "outputs": [
        {
          "output_type": "stream",
          "name": "stdout",
          "text": [
            "1. Analyze Statistical Measures\n",
            "Calculate the average female student ratio (µ107 & µ112) for each school in the academic years 107 and 112\n",
            "number of schools in year 107: 7\n",
            "number of schools in year 112: 8\n",
            "mean number of female student ratio in year 107:  0.09430542486580697\n",
            "mean number of female student ratio in year 112:  0.11693152361531407\n",
            "std of female student ratio in year 107:  0.026743150704289502\n",
            "std of female student ratio in year 112:  0.032488648970467\n",
            "\n",
            "2. Hypothesis\n",
            "H0: µ107 - µ112 ≧ 0\n",
            "Ha: µ107 - µ112 < 0\n",
            "\n",
            "3. Perform 1-sided, 2-sample u-test\n",
            "the test statistic is 19.0, p-value is 0.16783216783216787\n",
            "Since the p-value is greater than 0.05, H0 is not rejected.\n",
            "There is insufficient evidence to indicate that there is a difference in the mean number of female student ratio in year 107 and year 112 at alpha = 0.05.\n"
          ]
        }
      ]
    },
    {
      "cell_type": "markdown",
      "source": [
        "4. tech, private"
      ],
      "metadata": {
        "id": "He61eG7GM26_"
      }
    },
    {
      "cell_type": "code",
      "source": [
        "z_test(tech_private, 107, 112)"
      ],
      "metadata": {
        "colab": {
          "base_uri": "https://localhost:8080/"
        },
        "outputId": "b6733782-4a81-46a8-f787-2bb965b03a4e",
        "id": "AP4wN4oBM27A"
      },
      "execution_count": 64,
      "outputs": [
        {
          "output_type": "stream",
          "name": "stdout",
          "text": [
            "1. Analyze Statistical Measures\n",
            "Calculate the average female student ratio (µ107 & µ112) for each school in the academic years 107 and 112\n",
            "number of schools in year 107: 20\n",
            "number of schools in year 112: 16\n",
            "mean number of female student ratio in year 107:  0.06025355802108649\n",
            "mean number of female student ratio in year 112:  0.091619651103692\n",
            "std of female student ratio in year 107:  0.032292814336185714\n",
            "std of female student ratio in year 112:  0.03481833015093211\n",
            "\n",
            "2. Hypothesis\n",
            "H0: µ107 - µ112 ≧ 0\n",
            "Ha: µ107 - µ112 < 0\n",
            "\n",
            "3. Perform 1-sided, 2-sample z-test\n",
            "the test statistic is -2.773360941344044, p-value is 0.002774027322571799\n",
            "Since the p-value is less than 0.05, H0 is rejected.\n",
            "There is sufficient evidence to indicate that there is a difference in the mean number of female student ratio in year 107 and year 112 at alpha = 0.05.\n"
          ]
        }
      ]
    },
    {
      "cell_type": "markdown",
      "source": [
        "## statistical test (10 years)"
      ],
      "metadata": {
        "id": "XPf02xavMWRM"
      }
    },
    {
      "cell_type": "markdown",
      "source": [
        "1. general, public"
      ],
      "metadata": {
        "id": "bKep4IfZMWRN"
      }
    },
    {
      "cell_type": "code",
      "source": [
        "z_test(general_public, 103, 112)"
      ],
      "metadata": {
        "colab": {
          "base_uri": "https://localhost:8080/"
        },
        "outputId": "e53e77ff-7fc7-483c-91ea-d9958799d9aa",
        "id": "qrjYn0Z-MWRN"
      },
      "execution_count": 65,
      "outputs": [
        {
          "output_type": "stream",
          "name": "stdout",
          "text": [
            "1. Analyze Statistical Measures\n",
            "Calculate the average female student ratio (µ103 & µ112) for each school in the academic years 103 and 112\n",
            "number of schools in year 103: 21\n",
            "number of schools in year 112: 23\n",
            "mean number of female student ratio in year 103:  0.18067314038554508\n",
            "mean number of female student ratio in year 112:  0.22024074892477066\n",
            "std of female student ratio in year 103:  0.035683693457220736\n",
            "std of female student ratio in year 112:  0.04599962261965814\n",
            "\n",
            "2. Hypothesis\n",
            "H0: µ103 - µ112 ≧ 0\n",
            "Ha: µ103 - µ112 < 0\n",
            "\n",
            "3. Perform 1-sided, 2-sample z-test\n",
            "the test statistic is -3.2026943640729093, p-value is 0.0006807419566600549\n",
            "Since the p-value is less than 0.05, H0 is rejected.\n",
            "There is sufficient evidence to indicate that there is a difference in the mean number of female student ratio in year 103 and year 112 at alpha = 0.05.\n"
          ]
        }
      ]
    },
    {
      "cell_type": "markdown",
      "source": [
        "2. general, private"
      ],
      "metadata": {
        "id": "z7XTF4W5MWRN"
      }
    },
    {
      "cell_type": "code",
      "source": [
        "z_test(general_private, 103, 112)"
      ],
      "metadata": {
        "colab": {
          "base_uri": "https://localhost:8080/"
        },
        "outputId": "c3e36c06-72ae-4a94-ddad-9d540ef433de",
        "id": "14RPIRyIMWRN"
      },
      "execution_count": 66,
      "outputs": [
        {
          "output_type": "stream",
          "name": "stdout",
          "text": [
            "1. Analyze Statistical Measures\n",
            "Calculate the average female student ratio (µ103 & µ112) for each school in the academic years 103 and 112\n",
            "number of schools in year 103: 14\n",
            "number of schools in year 112: 18\n",
            "mean number of female student ratio in year 103:  0.14294559661289377\n",
            "mean number of female student ratio in year 112:  0.21379035340886318\n",
            "std of female student ratio in year 103:  0.03812152613146123\n",
            "std of female student ratio in year 112:  0.06390164683957125\n",
            "\n",
            "2. Hypothesis\n",
            "H0: µ103 - µ112 ≧ 0\n",
            "Ha: µ103 - µ112 < 0\n",
            "\n",
            "3. Perform 1-sided, 2-sample z-test\n",
            "the test statistic is -3.895979600009259, p-value is 4.890131058210745e-05\n",
            "Since the p-value is less than 0.05, H0 is rejected.\n",
            "There is sufficient evidence to indicate that there is a difference in the mean number of female student ratio in year 103 and year 112 at alpha = 0.05.\n"
          ]
        }
      ]
    },
    {
      "cell_type": "markdown",
      "source": [
        "3. tech, public"
      ],
      "metadata": {
        "id": "_npP3LKcMWRO"
      }
    },
    {
      "cell_type": "code",
      "source": [
        "u_test(tech_public, 103, 112)"
      ],
      "metadata": {
        "colab": {
          "base_uri": "https://localhost:8080/"
        },
        "outputId": "dc1ebbf0-6e9c-487b-9d53-01eb77d0e459",
        "id": "jZP9zBirMWRO"
      },
      "execution_count": 67,
      "outputs": [
        {
          "output_type": "stream",
          "name": "stdout",
          "text": [
            "1. Analyze Statistical Measures\n",
            "Calculate the average female student ratio (µ103 & µ112) for each school in the academic years 103 and 112\n",
            "number of schools in year 103: 8\n",
            "number of schools in year 112: 8\n",
            "mean number of female student ratio in year 103:  0.08770382183660903\n",
            "mean number of female student ratio in year 112:  0.11693152361531407\n",
            "std of female student ratio in year 103:  0.01822330432814595\n",
            "std of female student ratio in year 112:  0.032488648970467\n",
            "\n",
            "2. Hypothesis\n",
            "H0: µ103 - µ112 ≧ 0\n",
            "Ha: µ103 - µ112 < 0\n",
            "\n",
            "3. Perform 1-sided, 2-sample u-test\n",
            "the test statistic is 15.0, p-value is 0.041491841491841486\n",
            "Since the p-value is less than 0.05, H0 is rejected.\n",
            "There is sufficient evidence to indicate that there is a difference in the mean number of female student ratio in year 103 and year 112 at alpha = 0.05.\n"
          ]
        }
      ]
    },
    {
      "cell_type": "markdown",
      "source": [
        "4. tech, private"
      ],
      "metadata": {
        "id": "RQNMesUyMWRO"
      }
    },
    {
      "cell_type": "code",
      "source": [
        "z_test(tech_private, 103, 112)"
      ],
      "metadata": {
        "colab": {
          "base_uri": "https://localhost:8080/"
        },
        "outputId": "ae64f72c-9a8a-4ec0-f2c2-821b78fa7a80",
        "id": "H_zzQ2FFMWRO"
      },
      "execution_count": 68,
      "outputs": [
        {
          "output_type": "stream",
          "name": "stdout",
          "text": [
            "1. Analyze Statistical Measures\n",
            "Calculate the average female student ratio (µ103 & µ112) for each school in the academic years 103 and 112\n",
            "number of schools in year 103: 22\n",
            "number of schools in year 112: 16\n",
            "mean number of female student ratio in year 103:  0.05355201189140669\n",
            "mean number of female student ratio in year 112:  0.091619651103692\n",
            "std of female student ratio in year 103:  0.02603823378793482\n",
            "std of female student ratio in year 112:  0.03481833015093211\n",
            "\n",
            "2. Hypothesis\n",
            "H0: µ103 - µ112 ≧ 0\n",
            "Ha: µ103 - µ112 < 0\n",
            "\n",
            "3. Perform 1-sided, 2-sample z-test\n",
            "the test statistic is -3.6872524566174727, p-value is 0.00011334421751389498\n",
            "Since the p-value is less than 0.05, H0 is rejected.\n",
            "There is sufficient evidence to indicate that there is a difference in the mean number of female student ratio in year 103 and year 112 at alpha = 0.05.\n"
          ]
        }
      ]
    }
  ]
}
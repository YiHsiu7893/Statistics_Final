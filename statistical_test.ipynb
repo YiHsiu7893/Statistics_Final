{
  "nbformat": 4,
  "nbformat_minor": 0,
  "metadata": {
    "colab": {
      "provenance": [],
      "collapsed_sections": [
        "SrPn6DkYmx9G",
        "gUjfpPmhFVuF",
        "oKNXBAcTjo8P"
      ]
    },
    "kernelspec": {
      "name": "python3",
      "display_name": "Python 3"
    },
    "language_info": {
      "name": "python"
    }
  },
  "cells": [
    {
      "cell_type": "code",
      "source": [
        "import numpy as np\n",
        "import pandas as pd\n",
        "import statistics as st\n",
        "from scipy import stats\n",
        "import random\n",
        "import math"
      ],
      "metadata": {
        "id": "VQm5Zdk8hyYu"
      },
      "execution_count": 1,
      "outputs": []
    },
    {
      "cell_type": "code",
      "source": [
        "from google.colab import drive\n",
        "drive.mount('/content/drive/')\n",
        "%cd '/content/drive/MyDrive/統計學/data'"
      ],
      "metadata": {
        "id": "8z1PGYvVC8vm",
        "colab": {
          "base_uri": "https://localhost:8080/"
        },
        "outputId": "d9c3c191-8eb8-445b-f59a-fe611598e22b"
      },
      "execution_count": 3,
      "outputs": [
        {
          "output_type": "stream",
          "name": "stdout",
          "text": [
            "Drive already mounted at /content/drive/; to attempt to forcibly remount, call drive.mount(\"/content/drive/\", force_remount=True).\n",
            "/content/drive/MyDrive/統計學/data\n"
          ]
        }
      ]
    },
    {
      "cell_type": "markdown",
      "source": [
        "# Recent Changes in the Number of Master's Students"
      ],
      "metadata": {
        "id": "ZW4hTi4ijfDd"
      }
    },
    {
      "cell_type": "markdown",
      "source": [
        "## functions"
      ],
      "metadata": {
        "id": "NABhcgXvKiyw"
      }
    },
    {
      "cell_type": "markdown",
      "source": [
        "### if n >= 30 -> perform 1-sided, 2-sample z-test"
      ],
      "metadata": {
        "id": "akAPaTUK-V_W"
      }
    },
    {
      "cell_type": "code",
      "source": [
        "def z_test (data, year1, year2):\n",
        "  df1 = data[data['Year'] == year1]\n",
        "  df2 = data[data['Year'] == year2]\n",
        "  df_n = len(data['School'].unique())\n",
        "\n",
        "  print(\"1. Analyze Statistical Measures\")\n",
        "  print(f\"Calculate the average total number of master's graduates per school for the {year1}th and {year2}th academic years, µ_{year1} & µ_{year2}\")\n",
        "\n",
        "  df1_mean = df1['gradTotal'].mean()\n",
        "  df2_mean = df2['gradTotal'].mean()\n",
        "\n",
        "  df1_std = df1['gradTotal'].std()\n",
        "  df2_std = df2['gradTotal'].std()\n",
        "\n",
        "  print(\"number of schools:\", df_n)\n",
        "  print(f'mean number of master\\'s graduates in year {year1}: ', df1_mean)\n",
        "  print(f'mean number of master\\'s graduates in year {year2}: ', df2_mean)\n",
        "  print(f'std of master\\'s graduates in year {year1}: ', df1_std)\n",
        "  print(f'std of master\\'s graduates in year {year2}: ', df2_std)\n",
        "\n",
        "\n",
        "  print(\"\\n2. Hypothesis\")\n",
        "  print(f\"H0: µ{year1} - µ{year2} ≧ 0\")\n",
        "  print(f\"Ha: µ{year1} - µ{year2} < 0\")\n",
        "\n",
        "\n",
        "  print(\"\\n3. Perform 1-sided, 2-sample z-test\")\n",
        "  z = (df1_mean - df2_mean) / math.sqrt(df1_std**2 / df_n + df2_std**2 / df_n)\n",
        "  print(\"the test statistic is \", z)\n",
        "\n",
        "  z_alpha = -1.65\n",
        "  if z < z_alpha:\n",
        "    print(f\"Since the observed value of the test statistic falls in the rejection region (z < -1.65), H0 is rejected.\")\n",
        "    print(f\"There is sufficient evidence to indicate that there is a difference in the mean number of students in year {year1} and year {year2} at alpha = 0.05.\")\n",
        "  else:\n",
        "    print(f\"Since the observed value of the test statistic does not fall in the rejection region (z >= -1.65), H0 is not rejected.\")\n",
        "    print(f\"There is insufficient evidence to indicate that there is a difference in the mean number of students in year {year1} and year {year2} at alpha = 0.05.\")"
      ],
      "metadata": {
        "id": "NOtvMsCwFVuI"
      },
      "execution_count": 80,
      "outputs": []
    },
    {
      "cell_type": "markdown",
      "source": [
        "### if n < 30, variance unknown -> perform 1-sided, 2-sample t-test"
      ],
      "metadata": {
        "id": "LwIH1x1F-t9-"
      }
    },
    {
      "cell_type": "markdown",
      "source": [
        "1. use F-test to check if the sample variance are the same"
      ],
      "metadata": {
        "id": "PP-QDWDk_ZI_"
      }
    },
    {
      "cell_type": "code",
      "source": [
        "def F_test(std1, std2, n):\n",
        "  print(\"H0: the variances are the same, Ha: the variances are different\")\n",
        "  F = std1**2 / std2**2\n",
        "  p_value = stats.f.cdf(F, n-1, n-1)\n",
        "\n",
        "  return p_value"
      ],
      "metadata": {
        "id": "JQ1LFdGM_yi4"
      },
      "execution_count": 81,
      "outputs": []
    },
    {
      "cell_type": "markdown",
      "source": [
        "2. perform perform 1-sided, 2-sample"
      ],
      "metadata": {
        "id": "6DUDy1Xd_qG6"
      }
    },
    {
      "cell_type": "code",
      "source": [
        "def t_test (data, year1, year2):\n",
        "  df1 = data[data['Year'] == year1]\n",
        "  df2 = data[data['Year'] == year2]\n",
        "  df_n = len(data['School'].unique())\n",
        "\n",
        "  print(\"1. Analyze Statistical Measures\")\n",
        "  print(f\"Calculate the average total number of master's graduates per school for the {year1}th and {year2}th academic years, µ_{year1} & µ_{year2}\")\n",
        "\n",
        "  df1_mean = df1['gradTotal'].mean()\n",
        "  df2_mean = df2['gradTotal'].mean()\n",
        "\n",
        "  df1_std = df1['gradTotal'].std()\n",
        "  df2_std = df2['gradTotal'].std()\n",
        "\n",
        "  print(\"number of schools:\", df_n)\n",
        "  print(f'mean number of master\\'s graduates in year {year1}: ', df1_mean)\n",
        "  print(f'mean number of master\\'s graduates in year {year2}: ', df2_mean)\n",
        "  print(f'std of master\\'s graduates in year {year1}: ', df1_std)\n",
        "  print(f'std of master\\'s graduates in year {year2}: ', df2_std)\n",
        "\n",
        "\n",
        "  print(\"\\n2. Hypothesis\")\n",
        "  print(f\"H0: µ{year1} - µ{year2} ≧ 0\")\n",
        "  print(f\"Ha: µ{year1} - µ{year2} < 0\")\n",
        "\n",
        "\n",
        "  print(\"\\n3. Perform F test to check if the sample variance are the same\")\n",
        "  f_pval = F_test(df1_std, df2_std, df_n)\n",
        "  if f_pval < 0.025:\n",
        "    print(f\"Since the p-value({f_pval}) is less than 0.025, H0 is rejected.\")\n",
        "    print(f\"There is sufficient evidence to indicate the master\\'s graduates variances for year {year1} and year {year2} differ at alpha = 0.05\")\n",
        "    t, p_value = stats.ttest_ind(df1['gradTotal'], df2['gradTotal'], equal_var=False, alternative=\"less\")\n",
        "  else:\n",
        "    print(f\"Since the p-value({f_pval}) is greater than 0.025, H0 is not rejected.\")\n",
        "    print(f\"There is insufficient evidence to indicate the master\\'s graduates variances for year {year1} and year {year2} differ at alpha = 0.05\")\n",
        "    t, p_value = stats.ttest_ind(df1['gradTotal'], df2['gradTotal'], equal_var=True, alternative=\"less\")\n",
        "\n",
        "\n",
        "  print(\"\\n4. Perform 1-sided, 2-sample t-test\")\n",
        "  print(f\"the test statistic is {t}, p-value is {p_value}\")\n",
        "\n",
        "  alpha = 0.05\n",
        "  if p_value < alpha:\n",
        "    print(f\"Since the p-value is less than 0.05, H0 is rejected.\")\n",
        "    print(f\"There is sufficient evidence to indicate that there is a difference in the mean number of master\\'s graduates in year {year1} and year {year2} at alpha = 0.05.\")\n",
        "  else:\n",
        "    print(f\"Since the p-value is greater than 0.05, H0 is not rejected.\")\n",
        "    print(f\"There is insufficient evidence to indicate that there is a difference in the mean number of master\\'s graduates in year {year1} and year {year2} at alpha = 0.05.\")"
      ],
      "metadata": {
        "id": "lSqRreA9_MeW"
      },
      "execution_count": 82,
      "outputs": []
    },
    {
      "cell_type": "markdown",
      "source": [
        "## statistical test (6 years)"
      ],
      "metadata": {
        "id": "7gkzTnzcKwta"
      }
    },
    {
      "cell_type": "markdown",
      "source": [
        "load dataset"
      ],
      "metadata": {
        "id": "ywouH7c4hr9e"
      }
    },
    {
      "cell_type": "code",
      "execution_count": 83,
      "metadata": {
        "colab": {
          "base_uri": "https://localhost:8080/",
          "height": 0
        },
        "id": "xDuA9LCAhi1l",
        "outputId": "4fe06995-c6d6-42ec-995b-842746f0e13a"
      },
      "outputs": [
        {
          "output_type": "execute_result",
          "data": {
            "text/plain": [
              "   Year    School  gradTotal     Type Ownership\n",
              "0   107      世新大學        202  General   Private\n",
              "1   107  中信金融管理學院         14  General   Private\n",
              "2   107      中原大學        610  General   Private\n",
              "3   107    中國文化大學        298  General   Private\n",
              "4   107    中國科技大學         47     Tech   Private"
            ],
            "text/html": [
              "\n",
              "  <div id=\"df-704b96db-45dc-4426-be92-1752f71717cf\" class=\"colab-df-container\">\n",
              "    <div>\n",
              "<style scoped>\n",
              "    .dataframe tbody tr th:only-of-type {\n",
              "        vertical-align: middle;\n",
              "    }\n",
              "\n",
              "    .dataframe tbody tr th {\n",
              "        vertical-align: top;\n",
              "    }\n",
              "\n",
              "    .dataframe thead th {\n",
              "        text-align: right;\n",
              "    }\n",
              "</style>\n",
              "<table border=\"1\" class=\"dataframe\">\n",
              "  <thead>\n",
              "    <tr style=\"text-align: right;\">\n",
              "      <th></th>\n",
              "      <th>Year</th>\n",
              "      <th>School</th>\n",
              "      <th>gradTotal</th>\n",
              "      <th>Type</th>\n",
              "      <th>Ownership</th>\n",
              "    </tr>\n",
              "  </thead>\n",
              "  <tbody>\n",
              "    <tr>\n",
              "      <th>0</th>\n",
              "      <td>107</td>\n",
              "      <td>世新大學</td>\n",
              "      <td>202</td>\n",
              "      <td>General</td>\n",
              "      <td>Private</td>\n",
              "    </tr>\n",
              "    <tr>\n",
              "      <th>1</th>\n",
              "      <td>107</td>\n",
              "      <td>中信金融管理學院</td>\n",
              "      <td>14</td>\n",
              "      <td>General</td>\n",
              "      <td>Private</td>\n",
              "    </tr>\n",
              "    <tr>\n",
              "      <th>2</th>\n",
              "      <td>107</td>\n",
              "      <td>中原大學</td>\n",
              "      <td>610</td>\n",
              "      <td>General</td>\n",
              "      <td>Private</td>\n",
              "    </tr>\n",
              "    <tr>\n",
              "      <th>3</th>\n",
              "      <td>107</td>\n",
              "      <td>中國文化大學</td>\n",
              "      <td>298</td>\n",
              "      <td>General</td>\n",
              "      <td>Private</td>\n",
              "    </tr>\n",
              "    <tr>\n",
              "      <th>4</th>\n",
              "      <td>107</td>\n",
              "      <td>中國科技大學</td>\n",
              "      <td>47</td>\n",
              "      <td>Tech</td>\n",
              "      <td>Private</td>\n",
              "    </tr>\n",
              "  </tbody>\n",
              "</table>\n",
              "</div>\n",
              "    <div class=\"colab-df-buttons\">\n",
              "\n",
              "  <div class=\"colab-df-container\">\n",
              "    <button class=\"colab-df-convert\" onclick=\"convertToInteractive('df-704b96db-45dc-4426-be92-1752f71717cf')\"\n",
              "            title=\"Convert this dataframe to an interactive table.\"\n",
              "            style=\"display:none;\">\n",
              "\n",
              "  <svg xmlns=\"http://www.w3.org/2000/svg\" height=\"24px\" viewBox=\"0 -960 960 960\">\n",
              "    <path d=\"M120-120v-720h720v720H120Zm60-500h600v-160H180v160Zm220 220h160v-160H400v160Zm0 220h160v-160H400v160ZM180-400h160v-160H180v160Zm440 0h160v-160H620v160ZM180-180h160v-160H180v160Zm440 0h160v-160H620v160Z\"/>\n",
              "  </svg>\n",
              "    </button>\n",
              "\n",
              "  <style>\n",
              "    .colab-df-container {\n",
              "      display:flex;\n",
              "      gap: 12px;\n",
              "    }\n",
              "\n",
              "    .colab-df-convert {\n",
              "      background-color: #E8F0FE;\n",
              "      border: none;\n",
              "      border-radius: 50%;\n",
              "      cursor: pointer;\n",
              "      display: none;\n",
              "      fill: #1967D2;\n",
              "      height: 32px;\n",
              "      padding: 0 0 0 0;\n",
              "      width: 32px;\n",
              "    }\n",
              "\n",
              "    .colab-df-convert:hover {\n",
              "      background-color: #E2EBFA;\n",
              "      box-shadow: 0px 1px 2px rgba(60, 64, 67, 0.3), 0px 1px 3px 1px rgba(60, 64, 67, 0.15);\n",
              "      fill: #174EA6;\n",
              "    }\n",
              "\n",
              "    .colab-df-buttons div {\n",
              "      margin-bottom: 4px;\n",
              "    }\n",
              "\n",
              "    [theme=dark] .colab-df-convert {\n",
              "      background-color: #3B4455;\n",
              "      fill: #D2E3FC;\n",
              "    }\n",
              "\n",
              "    [theme=dark] .colab-df-convert:hover {\n",
              "      background-color: #434B5C;\n",
              "      box-shadow: 0px 1px 3px 1px rgba(0, 0, 0, 0.15);\n",
              "      filter: drop-shadow(0px 1px 2px rgba(0, 0, 0, 0.3));\n",
              "      fill: #FFFFFF;\n",
              "    }\n",
              "  </style>\n",
              "\n",
              "    <script>\n",
              "      const buttonEl =\n",
              "        document.querySelector('#df-704b96db-45dc-4426-be92-1752f71717cf button.colab-df-convert');\n",
              "      buttonEl.style.display =\n",
              "        google.colab.kernel.accessAllowed ? 'block' : 'none';\n",
              "\n",
              "      async function convertToInteractive(key) {\n",
              "        const element = document.querySelector('#df-704b96db-45dc-4426-be92-1752f71717cf');\n",
              "        const dataTable =\n",
              "          await google.colab.kernel.invokeFunction('convertToInteractive',\n",
              "                                                    [key], {});\n",
              "        if (!dataTable) return;\n",
              "\n",
              "        const docLinkHtml = 'Like what you see? Visit the ' +\n",
              "          '<a target=\"_blank\" href=https://colab.research.google.com/notebooks/data_table.ipynb>data table notebook</a>'\n",
              "          + ' to learn more about interactive tables.';\n",
              "        element.innerHTML = '';\n",
              "        dataTable['output_type'] = 'display_data';\n",
              "        await google.colab.output.renderOutput(dataTable, element);\n",
              "        const docLink = document.createElement('div');\n",
              "        docLink.innerHTML = docLinkHtml;\n",
              "        element.appendChild(docLink);\n",
              "      }\n",
              "    </script>\n",
              "  </div>\n",
              "\n",
              "\n",
              "<div id=\"df-c51819be-93ba-42ad-9fb8-3d8db1f21d05\">\n",
              "  <button class=\"colab-df-quickchart\" onclick=\"quickchart('df-c51819be-93ba-42ad-9fb8-3d8db1f21d05')\"\n",
              "            title=\"Suggest charts\"\n",
              "            style=\"display:none;\">\n",
              "\n",
              "<svg xmlns=\"http://www.w3.org/2000/svg\" height=\"24px\"viewBox=\"0 0 24 24\"\n",
              "     width=\"24px\">\n",
              "    <g>\n",
              "        <path d=\"M19 3H5c-1.1 0-2 .9-2 2v14c0 1.1.9 2 2 2h14c1.1 0 2-.9 2-2V5c0-1.1-.9-2-2-2zM9 17H7v-7h2v7zm4 0h-2V7h2v10zm4 0h-2v-4h2v4z\"/>\n",
              "    </g>\n",
              "</svg>\n",
              "  </button>\n",
              "\n",
              "<style>\n",
              "  .colab-df-quickchart {\n",
              "      --bg-color: #E8F0FE;\n",
              "      --fill-color: #1967D2;\n",
              "      --hover-bg-color: #E2EBFA;\n",
              "      --hover-fill-color: #174EA6;\n",
              "      --disabled-fill-color: #AAA;\n",
              "      --disabled-bg-color: #DDD;\n",
              "  }\n",
              "\n",
              "  [theme=dark] .colab-df-quickchart {\n",
              "      --bg-color: #3B4455;\n",
              "      --fill-color: #D2E3FC;\n",
              "      --hover-bg-color: #434B5C;\n",
              "      --hover-fill-color: #FFFFFF;\n",
              "      --disabled-bg-color: #3B4455;\n",
              "      --disabled-fill-color: #666;\n",
              "  }\n",
              "\n",
              "  .colab-df-quickchart {\n",
              "    background-color: var(--bg-color);\n",
              "    border: none;\n",
              "    border-radius: 50%;\n",
              "    cursor: pointer;\n",
              "    display: none;\n",
              "    fill: var(--fill-color);\n",
              "    height: 32px;\n",
              "    padding: 0;\n",
              "    width: 32px;\n",
              "  }\n",
              "\n",
              "  .colab-df-quickchart:hover {\n",
              "    background-color: var(--hover-bg-color);\n",
              "    box-shadow: 0 1px 2px rgba(60, 64, 67, 0.3), 0 1px 3px 1px rgba(60, 64, 67, 0.15);\n",
              "    fill: var(--button-hover-fill-color);\n",
              "  }\n",
              "\n",
              "  .colab-df-quickchart-complete:disabled,\n",
              "  .colab-df-quickchart-complete:disabled:hover {\n",
              "    background-color: var(--disabled-bg-color);\n",
              "    fill: var(--disabled-fill-color);\n",
              "    box-shadow: none;\n",
              "  }\n",
              "\n",
              "  .colab-df-spinner {\n",
              "    border: 2px solid var(--fill-color);\n",
              "    border-color: transparent;\n",
              "    border-bottom-color: var(--fill-color);\n",
              "    animation:\n",
              "      spin 1s steps(1) infinite;\n",
              "  }\n",
              "\n",
              "  @keyframes spin {\n",
              "    0% {\n",
              "      border-color: transparent;\n",
              "      border-bottom-color: var(--fill-color);\n",
              "      border-left-color: var(--fill-color);\n",
              "    }\n",
              "    20% {\n",
              "      border-color: transparent;\n",
              "      border-left-color: var(--fill-color);\n",
              "      border-top-color: var(--fill-color);\n",
              "    }\n",
              "    30% {\n",
              "      border-color: transparent;\n",
              "      border-left-color: var(--fill-color);\n",
              "      border-top-color: var(--fill-color);\n",
              "      border-right-color: var(--fill-color);\n",
              "    }\n",
              "    40% {\n",
              "      border-color: transparent;\n",
              "      border-right-color: var(--fill-color);\n",
              "      border-top-color: var(--fill-color);\n",
              "    }\n",
              "    60% {\n",
              "      border-color: transparent;\n",
              "      border-right-color: var(--fill-color);\n",
              "    }\n",
              "    80% {\n",
              "      border-color: transparent;\n",
              "      border-right-color: var(--fill-color);\n",
              "      border-bottom-color: var(--fill-color);\n",
              "    }\n",
              "    90% {\n",
              "      border-color: transparent;\n",
              "      border-bottom-color: var(--fill-color);\n",
              "    }\n",
              "  }\n",
              "</style>\n",
              "\n",
              "  <script>\n",
              "    async function quickchart(key) {\n",
              "      const quickchartButtonEl =\n",
              "        document.querySelector('#' + key + ' button');\n",
              "      quickchartButtonEl.disabled = true;  // To prevent multiple clicks.\n",
              "      quickchartButtonEl.classList.add('colab-df-spinner');\n",
              "      try {\n",
              "        const charts = await google.colab.kernel.invokeFunction(\n",
              "            'suggestCharts', [key], {});\n",
              "      } catch (error) {\n",
              "        console.error('Error during call to suggestCharts:', error);\n",
              "      }\n",
              "      quickchartButtonEl.classList.remove('colab-df-spinner');\n",
              "      quickchartButtonEl.classList.add('colab-df-quickchart-complete');\n",
              "    }\n",
              "    (() => {\n",
              "      let quickchartButtonEl =\n",
              "        document.querySelector('#df-c51819be-93ba-42ad-9fb8-3d8db1f21d05 button');\n",
              "      quickchartButtonEl.style.display =\n",
              "        google.colab.kernel.accessAllowed ? 'block' : 'none';\n",
              "    })();\n",
              "  </script>\n",
              "</div>\n",
              "\n",
              "    </div>\n",
              "  </div>\n"
            ],
            "application/vnd.google.colaboratory.intrinsic+json": {
              "type": "dataframe",
              "variable_name": "df",
              "summary": "{\n  \"name\": \"df\",\n  \"rows\": 786,\n  \"fields\": [\n    {\n      \"column\": \"Year\",\n      \"properties\": {\n        \"dtype\": \"number\",\n        \"std\": 1,\n        \"min\": 107,\n        \"max\": 112,\n        \"num_unique_values\": 6,\n        \"samples\": [\n          107,\n          108,\n          112\n        ],\n        \"semantic_type\": \"\",\n        \"description\": \"\"\n      }\n    },\n    {\n      \"column\": \"School\",\n      \"properties\": {\n        \"dtype\": \"category\",\n        \"num_unique_values\": 135,\n        \"samples\": [\n          \"\\u6771\\u6d77\\u5927\\u5b78\",\n          \"\\u570b\\u7acb\\u967d\\u660e\\u4ea4\\u901a\\u5927\\u5b78\",\n          \"\\u771f\\u7406\\u5927\\u5b78\"\n        ],\n        \"semantic_type\": \"\",\n        \"description\": \"\"\n      }\n    },\n    {\n      \"column\": \"gradTotal\",\n      \"properties\": {\n        \"dtype\": \"number\",\n        \"std\": 515,\n        \"min\": 1,\n        \"max\": 3711,\n        \"num_unique_values\": 385,\n        \"samples\": [\n          237,\n          349,\n          478\n        ],\n        \"semantic_type\": \"\",\n        \"description\": \"\"\n      }\n    },\n    {\n      \"column\": \"Type\",\n      \"properties\": {\n        \"dtype\": \"category\",\n        \"num_unique_values\": 2,\n        \"samples\": [\n          \"Tech\",\n          \"General\"\n        ],\n        \"semantic_type\": \"\",\n        \"description\": \"\"\n      }\n    },\n    {\n      \"column\": \"Ownership\",\n      \"properties\": {\n        \"dtype\": \"category\",\n        \"num_unique_values\": 2,\n        \"samples\": [\n          \"Public\",\n          \"Private\"\n        ],\n        \"semantic_type\": \"\",\n        \"description\": \"\"\n      }\n    }\n  ]\n}"
            }
          },
          "metadata": {},
          "execution_count": 83
        }
      ],
      "source": [
        "# GitHub filepath\n",
        "# url = \"https://raw.githubusercontent.com/YiHsiu7893/Statistics_Final/refs/heads/main/data/graduates.csv\"\n",
        "\n",
        "# df = pd.read_csv(url)\n",
        "df = pd.read_csv('graduates(6).csv')\n",
        "\n",
        "df.head()"
      ]
    },
    {
      "cell_type": "markdown",
      "source": [
        "split into four categories\n",
        "\n",
        "(general, public), (general, private), (tech, public), (tech, private)"
      ],
      "metadata": {
        "id": "H_RnsLWDRZOS"
      }
    },
    {
      "cell_type": "code",
      "source": [
        "general_public = df[(df['Type'] == 'General') & (df['Ownership'] == 'Public')]\n",
        "general_private = df[(df['Type'] == 'General') & (df['Ownership'] == 'Private')]\n",
        "tech_public = df[(df['Type'] == 'Tech') & (df['Ownership'] == 'Public')]\n",
        "tech_private = df[(df['Type'] == 'Tech') & (df['Ownership'] == 'Private')]\n",
        "\n",
        "print(\"number of schools in each category\")\n",
        "print(\"general, public：\", len(general_public['School'].unique()))\n",
        "print(\"general, private：\", len(general_private['School'].unique()))\n",
        "print(\"tech, public：\", len(tech_public['School'].unique()))\n",
        "print(\"tech, private：\", len(tech_private['School'].unique()))"
      ],
      "metadata": {
        "colab": {
          "base_uri": "https://localhost:8080/"
        },
        "id": "bbhA6AQmsV_2",
        "outputId": "5837642e-3ae5-4ead-d6a0-73985afaf698"
      },
      "execution_count": 84,
      "outputs": [
        {
          "output_type": "stream",
          "name": "stdout",
          "text": [
            "number of schools in each category\n",
            "general, public： 31\n",
            "general, private： 37\n",
            "tech, public： 12\n",
            "tech, private： 55\n"
          ]
        }
      ]
    },
    {
      "cell_type": "markdown",
      "source": [
        "### test results for each category"
      ],
      "metadata": {
        "id": "9qw-CjThJ4XN"
      }
    },
    {
      "cell_type": "markdown",
      "source": [
        "1. general, public"
      ],
      "metadata": {
        "id": "pJWOv-zIJ4XN"
      }
    },
    {
      "cell_type": "code",
      "source": [
        "z_test(general_public, 107, 112)"
      ],
      "metadata": {
        "colab": {
          "base_uri": "https://localhost:8080/"
        },
        "outputId": "815bdcb1-2722-4d4e-9aeb-18b83977c3e3",
        "id": "zgs5VbvcJ4XO"
      },
      "execution_count": 85,
      "outputs": [
        {
          "output_type": "stream",
          "name": "stdout",
          "text": [
            "1. Analyze Statistical Measures\n",
            "Calculate the average total number of master's graduates per school for the 107th and 112th academic years, µ_107 & µ_112\n",
            "number of schools: 31\n",
            "mean number of master's graduates in year 107:  703.5806451612904\n",
            "mean number of master's graduates in year 112:  720.1290322580645\n",
            "std of master's graduates in year 107:  826.32571359376\n",
            "std of master's graduates in year 112:  864.0040023802159\n",
            "\n",
            "2. Hypothesis\n",
            "H0: µ107 - µ112 ≧ 0\n",
            "Ha: µ107 - µ112 < 0\n",
            "\n",
            "3. Perform 1-sided, 2-sample z-test\n",
            "the test statistic is  -0.07706766896695796\n",
            "Since the observed value of the test statistic does not fall in the rejection region (z >= -1.65), H0 is not rejected.\n",
            "There is insufficient evidence to indicate that there is a difference in the mean number of students in year 107 and year 112 at alpha = 0.05.\n"
          ]
        }
      ]
    },
    {
      "cell_type": "markdown",
      "source": [
        "2. general, private"
      ],
      "metadata": {
        "id": "3p-UpQXlJ4XO"
      }
    },
    {
      "cell_type": "code",
      "source": [
        "z_test(general_private, 107, 112)"
      ],
      "metadata": {
        "colab": {
          "base_uri": "https://localhost:8080/"
        },
        "outputId": "34a07847-1519-44e2-8aba-fe84ee5f2f0e",
        "id": "_LTnqb5uJ4XO"
      },
      "execution_count": 86,
      "outputs": [
        {
          "output_type": "stream",
          "name": "stdout",
          "text": [
            "1. Analyze Statistical Measures\n",
            "Calculate the average total number of master's graduates per school for the 107th and 112th academic years, µ_107 & µ_112\n",
            "number of schools: 37\n",
            "mean number of master's graduates in year 107:  216.0\n",
            "mean number of master's graduates in year 112:  201.45714285714286\n",
            "std of master's graduates in year 107:  181.5986111057999\n",
            "std of master's graduates in year 112:  172.1883959431616\n",
            "\n",
            "2. Hypothesis\n",
            "H0: µ107 - µ112 ≧ 0\n",
            "Ha: µ107 - µ112 < 0\n",
            "\n",
            "3. Perform 1-sided, 2-sample z-test\n",
            "the test statistic is  0.3534843128552399\n",
            "Since the observed value of the test statistic does not fall in the rejection region (z >= -1.65), H0 is not rejected.\n",
            "There is insufficient evidence to indicate that there is a difference in the mean number of students in year 107 and year 112 at alpha = 0.05.\n"
          ]
        }
      ]
    },
    {
      "cell_type": "markdown",
      "source": [
        "3. tech, public"
      ],
      "metadata": {
        "id": "1r90C8hoJ4XO"
      }
    },
    {
      "cell_type": "code",
      "source": [
        "t_test(tech_public, 107, 112)"
      ],
      "metadata": {
        "colab": {
          "base_uri": "https://localhost:8080/"
        },
        "outputId": "b28b7f1c-8a0e-4beb-d3c5-c5fd4af3e433",
        "id": "Z17gLK6yJ4XO"
      },
      "execution_count": 87,
      "outputs": [
        {
          "output_type": "stream",
          "name": "stdout",
          "text": [
            "1. Analyze Statistical Measures\n",
            "Calculate the average total number of master's graduates per school for the 107th and 112th academic years, µ_107 & µ_112\n",
            "number of schools: 12\n",
            "mean number of master's graduates in year 107:  474.0833333333333\n",
            "mean number of master's graduates in year 112:  511.6666666666667\n",
            "std of master's graduates in year 107:  471.479963583402\n",
            "std of master's graduates in year 112:  516.6362063357249\n",
            "\n",
            "2. Hypothesis\n",
            "H0: µ107 - µ112 ≧ 0\n",
            "Ha: µ107 - µ112 < 0\n",
            "\n",
            "3. Perform F test to check if the sample variance are the same\n",
            "H0: the variances are the same, Ha: the variances are different\n",
            "Since the p-value(0.3834861411965651) is greater than 0.025, H0 is not rejected.\n",
            "There is insufficient evidence to indicate the master's graduates variances for year 107 and year 112 differ at alpha = 0.05\n",
            "\n",
            "4. Perform 1-sided, 2-sample t-test\n",
            "the test statistic is -0.1861400759576133, p-value is 0.42702029127984\n",
            "Since the p-value is greater than 0.05, H0 is not rejected.\n",
            "There is insufficient evidence to indicate that there is a difference in the mean number of master's graduates in year 107 and year 112 at alpha = 0.05.\n"
          ]
        }
      ]
    },
    {
      "cell_type": "markdown",
      "source": [
        "4. tech, private"
      ],
      "metadata": {
        "id": "8kjIZEwCJ4XO"
      }
    },
    {
      "cell_type": "code",
      "source": [
        "z_test(tech_private, 107, 112)"
      ],
      "metadata": {
        "colab": {
          "base_uri": "https://localhost:8080/"
        },
        "outputId": "c955bf8c-f859-434f-dc22-1a2219040dee",
        "id": "mJOzisiyJ4XO"
      },
      "execution_count": 88,
      "outputs": [
        {
          "output_type": "stream",
          "name": "stdout",
          "text": [
            "1. Analyze Statistical Measures\n",
            "Calculate the average total number of master's graduates per school for the 107th and 112th academic years, µ_107 & µ_112\n",
            "number of schools: 55\n",
            "mean number of master's graduates in year 107:  55.96296296296296\n",
            "mean number of master's graduates in year 112:  51.395833333333336\n",
            "std of master's graduates in year 107:  59.123140750363405\n",
            "std of master's graduates in year 112:  51.973290842440484\n",
            "\n",
            "2. Hypothesis\n",
            "H0: µ107 - µ112 ≧ 0\n",
            "Ha: µ107 - µ112 < 0\n",
            "\n",
            "3. Perform 1-sided, 2-sample z-test\n",
            "the test statistic is  0.4302709634657829\n",
            "Since the observed value of the test statistic does not fall in the rejection region (z >= -1.65), H0 is not rejected.\n",
            "There is insufficient evidence to indicate that there is a difference in the mean number of students in year 107 and year 112 at alpha = 0.05.\n"
          ]
        }
      ]
    },
    {
      "cell_type": "markdown",
      "source": [
        "## statistical test (10 years)"
      ],
      "metadata": {
        "id": "VLz8BuUPLOuV"
      }
    },
    {
      "cell_type": "markdown",
      "source": [
        "load dataset"
      ],
      "metadata": {
        "id": "7brNCNypLOuX"
      }
    },
    {
      "cell_type": "code",
      "execution_count": 89,
      "metadata": {
        "colab": {
          "base_uri": "https://localhost:8080/",
          "height": 206
        },
        "outputId": "8315ae3d-19ac-4c26-c002-f600c08840c9",
        "id": "EcDe8Q2QLOuX"
      },
      "outputs": [
        {
          "output_type": "execute_result",
          "data": {
            "text/plain": [
              "   Year  School  gradTotal     Type Ownership\n",
              "0   103    世新大學        267  General   Private\n",
              "1   103    中原大學        706  General   Private\n",
              "2   103  中國文化大學        509  General   Private\n",
              "3   103  中國科技大學         48     Tech   Private\n",
              "4   103  中國醫藥大學        214  General   Private"
            ],
            "text/html": [
              "\n",
              "  <div id=\"df-46afafb1-64ca-4b55-ac8a-f1c4ba16d91f\" class=\"colab-df-container\">\n",
              "    <div>\n",
              "<style scoped>\n",
              "    .dataframe tbody tr th:only-of-type {\n",
              "        vertical-align: middle;\n",
              "    }\n",
              "\n",
              "    .dataframe tbody tr th {\n",
              "        vertical-align: top;\n",
              "    }\n",
              "\n",
              "    .dataframe thead th {\n",
              "        text-align: right;\n",
              "    }\n",
              "</style>\n",
              "<table border=\"1\" class=\"dataframe\">\n",
              "  <thead>\n",
              "    <tr style=\"text-align: right;\">\n",
              "      <th></th>\n",
              "      <th>Year</th>\n",
              "      <th>School</th>\n",
              "      <th>gradTotal</th>\n",
              "      <th>Type</th>\n",
              "      <th>Ownership</th>\n",
              "    </tr>\n",
              "  </thead>\n",
              "  <tbody>\n",
              "    <tr>\n",
              "      <th>0</th>\n",
              "      <td>103</td>\n",
              "      <td>世新大學</td>\n",
              "      <td>267</td>\n",
              "      <td>General</td>\n",
              "      <td>Private</td>\n",
              "    </tr>\n",
              "    <tr>\n",
              "      <th>1</th>\n",
              "      <td>103</td>\n",
              "      <td>中原大學</td>\n",
              "      <td>706</td>\n",
              "      <td>General</td>\n",
              "      <td>Private</td>\n",
              "    </tr>\n",
              "    <tr>\n",
              "      <th>2</th>\n",
              "      <td>103</td>\n",
              "      <td>中國文化大學</td>\n",
              "      <td>509</td>\n",
              "      <td>General</td>\n",
              "      <td>Private</td>\n",
              "    </tr>\n",
              "    <tr>\n",
              "      <th>3</th>\n",
              "      <td>103</td>\n",
              "      <td>中國科技大學</td>\n",
              "      <td>48</td>\n",
              "      <td>Tech</td>\n",
              "      <td>Private</td>\n",
              "    </tr>\n",
              "    <tr>\n",
              "      <th>4</th>\n",
              "      <td>103</td>\n",
              "      <td>中國醫藥大學</td>\n",
              "      <td>214</td>\n",
              "      <td>General</td>\n",
              "      <td>Private</td>\n",
              "    </tr>\n",
              "  </tbody>\n",
              "</table>\n",
              "</div>\n",
              "    <div class=\"colab-df-buttons\">\n",
              "\n",
              "  <div class=\"colab-df-container\">\n",
              "    <button class=\"colab-df-convert\" onclick=\"convertToInteractive('df-46afafb1-64ca-4b55-ac8a-f1c4ba16d91f')\"\n",
              "            title=\"Convert this dataframe to an interactive table.\"\n",
              "            style=\"display:none;\">\n",
              "\n",
              "  <svg xmlns=\"http://www.w3.org/2000/svg\" height=\"24px\" viewBox=\"0 -960 960 960\">\n",
              "    <path d=\"M120-120v-720h720v720H120Zm60-500h600v-160H180v160Zm220 220h160v-160H400v160Zm0 220h160v-160H400v160ZM180-400h160v-160H180v160Zm440 0h160v-160H620v160ZM180-180h160v-160H180v160Zm440 0h160v-160H620v160Z\"/>\n",
              "  </svg>\n",
              "    </button>\n",
              "\n",
              "  <style>\n",
              "    .colab-df-container {\n",
              "      display:flex;\n",
              "      gap: 12px;\n",
              "    }\n",
              "\n",
              "    .colab-df-convert {\n",
              "      background-color: #E8F0FE;\n",
              "      border: none;\n",
              "      border-radius: 50%;\n",
              "      cursor: pointer;\n",
              "      display: none;\n",
              "      fill: #1967D2;\n",
              "      height: 32px;\n",
              "      padding: 0 0 0 0;\n",
              "      width: 32px;\n",
              "    }\n",
              "\n",
              "    .colab-df-convert:hover {\n",
              "      background-color: #E2EBFA;\n",
              "      box-shadow: 0px 1px 2px rgba(60, 64, 67, 0.3), 0px 1px 3px 1px rgba(60, 64, 67, 0.15);\n",
              "      fill: #174EA6;\n",
              "    }\n",
              "\n",
              "    .colab-df-buttons div {\n",
              "      margin-bottom: 4px;\n",
              "    }\n",
              "\n",
              "    [theme=dark] .colab-df-convert {\n",
              "      background-color: #3B4455;\n",
              "      fill: #D2E3FC;\n",
              "    }\n",
              "\n",
              "    [theme=dark] .colab-df-convert:hover {\n",
              "      background-color: #434B5C;\n",
              "      box-shadow: 0px 1px 3px 1px rgba(0, 0, 0, 0.15);\n",
              "      filter: drop-shadow(0px 1px 2px rgba(0, 0, 0, 0.3));\n",
              "      fill: #FFFFFF;\n",
              "    }\n",
              "  </style>\n",
              "\n",
              "    <script>\n",
              "      const buttonEl =\n",
              "        document.querySelector('#df-46afafb1-64ca-4b55-ac8a-f1c4ba16d91f button.colab-df-convert');\n",
              "      buttonEl.style.display =\n",
              "        google.colab.kernel.accessAllowed ? 'block' : 'none';\n",
              "\n",
              "      async function convertToInteractive(key) {\n",
              "        const element = document.querySelector('#df-46afafb1-64ca-4b55-ac8a-f1c4ba16d91f');\n",
              "        const dataTable =\n",
              "          await google.colab.kernel.invokeFunction('convertToInteractive',\n",
              "                                                    [key], {});\n",
              "        if (!dataTable) return;\n",
              "\n",
              "        const docLinkHtml = 'Like what you see? Visit the ' +\n",
              "          '<a target=\"_blank\" href=https://colab.research.google.com/notebooks/data_table.ipynb>data table notebook</a>'\n",
              "          + ' to learn more about interactive tables.';\n",
              "        element.innerHTML = '';\n",
              "        dataTable['output_type'] = 'display_data';\n",
              "        await google.colab.output.renderOutput(dataTable, element);\n",
              "        const docLink = document.createElement('div');\n",
              "        docLink.innerHTML = docLinkHtml;\n",
              "        element.appendChild(docLink);\n",
              "      }\n",
              "    </script>\n",
              "  </div>\n",
              "\n",
              "\n",
              "<div id=\"df-12e85a8b-b804-4de0-b2b6-2203e3f9b8bf\">\n",
              "  <button class=\"colab-df-quickchart\" onclick=\"quickchart('df-12e85a8b-b804-4de0-b2b6-2203e3f9b8bf')\"\n",
              "            title=\"Suggest charts\"\n",
              "            style=\"display:none;\">\n",
              "\n",
              "<svg xmlns=\"http://www.w3.org/2000/svg\" height=\"24px\"viewBox=\"0 0 24 24\"\n",
              "     width=\"24px\">\n",
              "    <g>\n",
              "        <path d=\"M19 3H5c-1.1 0-2 .9-2 2v14c0 1.1.9 2 2 2h14c1.1 0 2-.9 2-2V5c0-1.1-.9-2-2-2zM9 17H7v-7h2v7zm4 0h-2V7h2v10zm4 0h-2v-4h2v4z\"/>\n",
              "    </g>\n",
              "</svg>\n",
              "  </button>\n",
              "\n",
              "<style>\n",
              "  .colab-df-quickchart {\n",
              "      --bg-color: #E8F0FE;\n",
              "      --fill-color: #1967D2;\n",
              "      --hover-bg-color: #E2EBFA;\n",
              "      --hover-fill-color: #174EA6;\n",
              "      --disabled-fill-color: #AAA;\n",
              "      --disabled-bg-color: #DDD;\n",
              "  }\n",
              "\n",
              "  [theme=dark] .colab-df-quickchart {\n",
              "      --bg-color: #3B4455;\n",
              "      --fill-color: #D2E3FC;\n",
              "      --hover-bg-color: #434B5C;\n",
              "      --hover-fill-color: #FFFFFF;\n",
              "      --disabled-bg-color: #3B4455;\n",
              "      --disabled-fill-color: #666;\n",
              "  }\n",
              "\n",
              "  .colab-df-quickchart {\n",
              "    background-color: var(--bg-color);\n",
              "    border: none;\n",
              "    border-radius: 50%;\n",
              "    cursor: pointer;\n",
              "    display: none;\n",
              "    fill: var(--fill-color);\n",
              "    height: 32px;\n",
              "    padding: 0;\n",
              "    width: 32px;\n",
              "  }\n",
              "\n",
              "  .colab-df-quickchart:hover {\n",
              "    background-color: var(--hover-bg-color);\n",
              "    box-shadow: 0 1px 2px rgba(60, 64, 67, 0.3), 0 1px 3px 1px rgba(60, 64, 67, 0.15);\n",
              "    fill: var(--button-hover-fill-color);\n",
              "  }\n",
              "\n",
              "  .colab-df-quickchart-complete:disabled,\n",
              "  .colab-df-quickchart-complete:disabled:hover {\n",
              "    background-color: var(--disabled-bg-color);\n",
              "    fill: var(--disabled-fill-color);\n",
              "    box-shadow: none;\n",
              "  }\n",
              "\n",
              "  .colab-df-spinner {\n",
              "    border: 2px solid var(--fill-color);\n",
              "    border-color: transparent;\n",
              "    border-bottom-color: var(--fill-color);\n",
              "    animation:\n",
              "      spin 1s steps(1) infinite;\n",
              "  }\n",
              "\n",
              "  @keyframes spin {\n",
              "    0% {\n",
              "      border-color: transparent;\n",
              "      border-bottom-color: var(--fill-color);\n",
              "      border-left-color: var(--fill-color);\n",
              "    }\n",
              "    20% {\n",
              "      border-color: transparent;\n",
              "      border-left-color: var(--fill-color);\n",
              "      border-top-color: var(--fill-color);\n",
              "    }\n",
              "    30% {\n",
              "      border-color: transparent;\n",
              "      border-left-color: var(--fill-color);\n",
              "      border-top-color: var(--fill-color);\n",
              "      border-right-color: var(--fill-color);\n",
              "    }\n",
              "    40% {\n",
              "      border-color: transparent;\n",
              "      border-right-color: var(--fill-color);\n",
              "      border-top-color: var(--fill-color);\n",
              "    }\n",
              "    60% {\n",
              "      border-color: transparent;\n",
              "      border-right-color: var(--fill-color);\n",
              "    }\n",
              "    80% {\n",
              "      border-color: transparent;\n",
              "      border-right-color: var(--fill-color);\n",
              "      border-bottom-color: var(--fill-color);\n",
              "    }\n",
              "    90% {\n",
              "      border-color: transparent;\n",
              "      border-bottom-color: var(--fill-color);\n",
              "    }\n",
              "  }\n",
              "</style>\n",
              "\n",
              "  <script>\n",
              "    async function quickchart(key) {\n",
              "      const quickchartButtonEl =\n",
              "        document.querySelector('#' + key + ' button');\n",
              "      quickchartButtonEl.disabled = true;  // To prevent multiple clicks.\n",
              "      quickchartButtonEl.classList.add('colab-df-spinner');\n",
              "      try {\n",
              "        const charts = await google.colab.kernel.invokeFunction(\n",
              "            'suggestCharts', [key], {});\n",
              "      } catch (error) {\n",
              "        console.error('Error during call to suggestCharts:', error);\n",
              "      }\n",
              "      quickchartButtonEl.classList.remove('colab-df-spinner');\n",
              "      quickchartButtonEl.classList.add('colab-df-quickchart-complete');\n",
              "    }\n",
              "    (() => {\n",
              "      let quickchartButtonEl =\n",
              "        document.querySelector('#df-12e85a8b-b804-4de0-b2b6-2203e3f9b8bf button');\n",
              "      quickchartButtonEl.style.display =\n",
              "        google.colab.kernel.accessAllowed ? 'block' : 'none';\n",
              "    })();\n",
              "  </script>\n",
              "</div>\n",
              "\n",
              "    </div>\n",
              "  </div>\n"
            ],
            "application/vnd.google.colaboratory.intrinsic+json": {
              "type": "dataframe",
              "variable_name": "df",
              "summary": "{\n  \"name\": \"df\",\n  \"rows\": 1302,\n  \"fields\": [\n    {\n      \"column\": \"Year\",\n      \"properties\": {\n        \"dtype\": \"number\",\n        \"std\": 2,\n        \"min\": 103,\n        \"max\": 112,\n        \"num_unique_values\": 10,\n        \"samples\": [\n          111,\n          104,\n          108\n        ],\n        \"semantic_type\": \"\",\n        \"description\": \"\"\n      }\n    },\n    {\n      \"column\": \"School\",\n      \"properties\": {\n        \"dtype\": \"category\",\n        \"num_unique_values\": 135,\n        \"samples\": [\n          \"\\u6cd5\\u9f13\\u6587\\u7406\\u5b78\\u9662\",\n          \"\\u570b\\u7acb\\u9ad4\\u80b2\\u5927\\u5b78\",\n          \"\\u7f8e\\u548c\\u79d1\\u6280\\u5927\\u5b78\"\n        ],\n        \"semantic_type\": \"\",\n        \"description\": \"\"\n      }\n    },\n    {\n      \"column\": \"gradTotal\",\n      \"properties\": {\n        \"dtype\": \"number\",\n        \"std\": 510,\n        \"min\": 1,\n        \"max\": 3711,\n        \"num_unique_values\": 529,\n        \"samples\": [\n          500,\n          945,\n          30\n        ],\n        \"semantic_type\": \"\",\n        \"description\": \"\"\n      }\n    },\n    {\n      \"column\": \"Type\",\n      \"properties\": {\n        \"dtype\": \"category\",\n        \"num_unique_values\": 2,\n        \"samples\": [\n          \"Tech\",\n          \"General\"\n        ],\n        \"semantic_type\": \"\",\n        \"description\": \"\"\n      }\n    },\n    {\n      \"column\": \"Ownership\",\n      \"properties\": {\n        \"dtype\": \"category\",\n        \"num_unique_values\": 2,\n        \"samples\": [\n          \"Public\",\n          \"Private\"\n        ],\n        \"semantic_type\": \"\",\n        \"description\": \"\"\n      }\n    }\n  ]\n}"
            }
          },
          "metadata": {},
          "execution_count": 89
        }
      ],
      "source": [
        "# GitHub filepath\n",
        "# url = \"https://raw.githubusercontent.com/YiHsiu7893/Statistics_Final/refs/heads/main/data/graduates.csv\"\n",
        "\n",
        "# df = pd.read_csv(url)\n",
        "df = pd.read_csv('graduates(10).csv')\n",
        "\n",
        "df.head()"
      ]
    },
    {
      "cell_type": "markdown",
      "source": [
        "split into four categories\n",
        "\n",
        "(general, public), (general, private), (tech, public), (tech, private)"
      ],
      "metadata": {
        "id": "LLlImXrLLOuX"
      }
    },
    {
      "cell_type": "code",
      "source": [
        "general_public = df[(df['Type'] == 'General') & (df['Ownership'] == 'Public')]\n",
        "general_private = df[(df['Type'] == 'General') & (df['Ownership'] == 'Private')]\n",
        "tech_public = df[(df['Type'] == 'Tech') & (df['Ownership'] == 'Public')]\n",
        "tech_private = df[(df['Type'] == 'Tech') & (df['Ownership'] == 'Private')]\n",
        "\n",
        "print(\"number of schools in each category\")\n",
        "print(\"general, public：\", len(general_public['School'].unique()))\n",
        "print(\"general, private：\", len(general_private['School'].unique()))\n",
        "print(\"tech, public：\", len(tech_public['School'].unique()))\n",
        "print(\"tech, private：\", len(tech_private['School'].unique()))"
      ],
      "metadata": {
        "colab": {
          "base_uri": "https://localhost:8080/"
        },
        "id": "Es-n2-rqON_m",
        "outputId": "0f48b9c9-d728-410a-8bcb-d79dde736498"
      },
      "execution_count": 90,
      "outputs": [
        {
          "output_type": "stream",
          "name": "stdout",
          "text": [
            "number of schools in each category\n",
            "general, public： 31\n",
            "general, private： 36\n",
            "tech, public： 12\n",
            "tech, private： 56\n"
          ]
        }
      ]
    },
    {
      "cell_type": "markdown",
      "source": [
        "### test results for each category"
      ],
      "metadata": {
        "id": "hhZVw0KJLOuX"
      }
    },
    {
      "cell_type": "markdown",
      "source": [
        "1. general, public"
      ],
      "metadata": {
        "id": "tZz5yhLFLOuX"
      }
    },
    {
      "cell_type": "code",
      "source": [
        "z_test(general_public, 103, 112)"
      ],
      "metadata": {
        "colab": {
          "base_uri": "https://localhost:8080/"
        },
        "outputId": "265340dd-ea0f-4151-9b1a-da568d23bd13",
        "id": "Bu5EFxxkLOuX"
      },
      "execution_count": 91,
      "outputs": [
        {
          "output_type": "stream",
          "name": "stdout",
          "text": [
            "1. Analyze Statistical Measures\n",
            "Calculate the average total number of master's graduates per school for the 103th and 112th academic years, µ_103 & µ_112\n",
            "number of schools: 31\n",
            "mean number of master's graduates in year 103:  741.4193548387096\n",
            "mean number of master's graduates in year 112:  720.1290322580645\n",
            "std of master's graduates in year 103:  820.7034695590341\n",
            "std of master's graduates in year 112:  864.0040023802159\n",
            "\n",
            "2. Hypothesis\n",
            "H0: µ103 - µ112 ≧ 0\n",
            "Ha: µ103 - µ112 < 0\n",
            "\n",
            "3. Perform 1-sided, 2-sample z-test\n",
            "the test statistic is  0.0994741380578472\n",
            "Since the observed value of the test statistic does not fall in the rejection region (z >= -1.65), H0 is not rejected.\n",
            "There is insufficient evidence to indicate that there is a difference in the mean number of students in year 103 and year 112 at alpha = 0.05.\n"
          ]
        }
      ]
    },
    {
      "cell_type": "markdown",
      "source": [
        "2. general, private"
      ],
      "metadata": {
        "id": "qqVzhWStLOuY"
      }
    },
    {
      "cell_type": "code",
      "source": [
        "z_test(general_private, 103, 112)"
      ],
      "metadata": {
        "colab": {
          "base_uri": "https://localhost:8080/"
        },
        "outputId": "8d322b90-193e-41e1-ff09-a9feb3e6f76a",
        "id": "_pYu06GJLOuY"
      },
      "execution_count": 92,
      "outputs": [
        {
          "output_type": "stream",
          "name": "stdout",
          "text": [
            "1. Analyze Statistical Measures\n",
            "Calculate the average total number of master's graduates per school for the 103th and 112th academic years, µ_103 & µ_112\n",
            "number of schools: 36\n",
            "mean number of master's graduates in year 103:  279.94117647058823\n",
            "mean number of master's graduates in year 112:  207.3235294117647\n",
            "std of master's graduates in year 103:  209.82343821131232\n",
            "std of master's graduates in year 112:  171.19078858471528\n",
            "\n",
            "2. Hypothesis\n",
            "H0: µ103 - µ112 ≧ 0\n",
            "Ha: µ103 - µ112 < 0\n",
            "\n",
            "3. Perform 1-sided, 2-sample z-test\n",
            "the test statistic is  1.6089634579072103\n",
            "Since the observed value of the test statistic does not fall in the rejection region (z >= -1.65), H0 is not rejected.\n",
            "There is insufficient evidence to indicate that there is a difference in the mean number of students in year 103 and year 112 at alpha = 0.05.\n"
          ]
        }
      ]
    },
    {
      "cell_type": "markdown",
      "source": [
        "3. tech, public"
      ],
      "metadata": {
        "id": "JCjEh7kzLOuY"
      }
    },
    {
      "cell_type": "code",
      "source": [
        "t_test(tech_public, 103, 112)"
      ],
      "metadata": {
        "colab": {
          "base_uri": "https://localhost:8080/"
        },
        "outputId": "7922b0f2-088d-43b9-cd26-330f4ffb1130",
        "id": "_YYPGLrdLOuY"
      },
      "execution_count": 93,
      "outputs": [
        {
          "output_type": "stream",
          "name": "stdout",
          "text": [
            "1. Analyze Statistical Measures\n",
            "Calculate the average total number of master's graduates per school for the 103th and 112th academic years, µ_103 & µ_112\n",
            "number of schools: 12\n",
            "mean number of master's graduates in year 103:  526.75\n",
            "mean number of master's graduates in year 112:  511.6666666666667\n",
            "std of master's graduates in year 103:  473.25509650043534\n",
            "std of master's graduates in year 112:  516.6362063357249\n",
            "\n",
            "2. Hypothesis\n",
            "H0: µ103 - µ112 ≧ 0\n",
            "Ha: µ103 - µ112 < 0\n",
            "\n",
            "3. Perform F test to check if the sample variance are the same\n",
            "H0: the variances are the same, Ha: the variances are different\n",
            "Since the p-value(0.38813723211780116) is greater than 0.025, H0 is not rejected.\n",
            "There is insufficient evidence to indicate the master's graduates variances for year 103 and year 112 differ at alpha = 0.05\n",
            "\n",
            "4. Perform 1-sided, 2-sample t-test\n",
            "the test statistic is 0.07457595066518273, p-value is 0.5293869647180232\n",
            "Since the p-value is greater than 0.05, H0 is not rejected.\n",
            "There is insufficient evidence to indicate that there is a difference in the mean number of master's graduates in year 103 and year 112 at alpha = 0.05.\n"
          ]
        }
      ]
    },
    {
      "cell_type": "markdown",
      "source": [
        "4. tech, private"
      ],
      "metadata": {
        "id": "WRsNylTxLOuY"
      }
    },
    {
      "cell_type": "code",
      "source": [
        "z_test(tech_private, 103, 112)"
      ],
      "metadata": {
        "colab": {
          "base_uri": "https://localhost:8080/"
        },
        "outputId": "b4ae27c9-bbf7-446a-8562-35bd64378c9b",
        "id": "H9TK3iTvLOuY"
      },
      "execution_count": 94,
      "outputs": [
        {
          "output_type": "stream",
          "name": "stdout",
          "text": [
            "1. Analyze Statistical Measures\n",
            "Calculate the average total number of master's graduates per school for the 103th and 112th academic years, µ_103 & µ_112\n",
            "number of schools: 56\n",
            "mean number of master's graduates in year 103:  68.33333333333333\n",
            "mean number of master's graduates in year 112:  51.395833333333336\n",
            "std of master's graduates in year 103:  78.06961795876133\n",
            "std of master's graduates in year 112:  51.973290842440484\n",
            "\n",
            "2. Hypothesis\n",
            "H0: µ103 - µ112 ≧ 0\n",
            "Ha: µ103 - µ112 < 0\n",
            "\n",
            "3. Perform 1-sided, 2-sample z-test\n",
            "the test statistic is  1.3514454914474736\n",
            "Since the observed value of the test statistic does not fall in the rejection region (z >= -1.65), H0 is not rejected.\n",
            "There is insufficient evidence to indicate that there is a difference in the mean number of students in year 103 and year 112 at alpha = 0.05.\n"
          ]
        }
      ]
    },
    {
      "cell_type": "markdown",
      "source": [
        "# Recent Changes in the Proportion of Female Students in Computer Science"
      ],
      "metadata": {
        "id": "oKNXBAcTjo8P"
      }
    },
    {
      "cell_type": "markdown",
      "source": [
        "## function"
      ],
      "metadata": {
        "id": "0aUjmgpPL1tc"
      }
    },
    {
      "cell_type": "markdown",
      "source": [
        "### if n < 30, variance unknown -> perform 1-sided, 2-sample t-test"
      ],
      "metadata": {
        "id": "YrPiluzMIG8b"
      }
    },
    {
      "cell_type": "markdown",
      "source": [
        "1. use F-test to check if the sample variance are the same"
      ],
      "metadata": {
        "id": "N1tDdqP4IG8c"
      }
    },
    {
      "cell_type": "code",
      "source": [
        "def F_test(std1, std2, n):\n",
        "  print(\"H0: the variances are the same, Ha: the variances are different\")\n",
        "  F = std1**2 / std2**2\n",
        "  p_value = stats.f.cdf(F, n-1, n-1)\n",
        "\n",
        "  return p_value"
      ],
      "metadata": {
        "id": "GI8-b7AAIG8c"
      },
      "execution_count": 66,
      "outputs": []
    },
    {
      "cell_type": "markdown",
      "source": [
        "2. perform perform 1-sided, 2-sample"
      ],
      "metadata": {
        "id": "FqfUuw1aIG8c"
      }
    },
    {
      "cell_type": "code",
      "source": [
        "def t_test (data, year1, year2):\n",
        "  df1 = data[data['Year'] == year1]\n",
        "  df2 = data[data['Year'] == year2]\n",
        "  df_n = len(data['School'].unique())\n",
        "\n",
        "  print(\"1. Analyze Statistical Measures\")\n",
        "  print(f\"Calculate the average female student ratio (µ{year1} & µ{year2}) for each school in the academic years {year1} and {year2}\")\n",
        "\n",
        "  df1_mean = df1['Total'].mean()\n",
        "  df2_mean = df2['Total'].mean()\n",
        "\n",
        "  df1_std = df1['Total'].std()\n",
        "  df2_std = df2['Total'].std()\n",
        "\n",
        "  print(\"number of schools:\", df_n)\n",
        "  print(f'mean number of female student ratio in year {year1}: ', df1_mean)\n",
        "  print(f'mean number of female student ratio in year {year2}: ', df2_mean)\n",
        "  print(f'std of female student ratio in year {year1}: ', df1_std)\n",
        "  print(f'std of female student ratio in year {year2}: ', df2_std)\n",
        "\n",
        "\n",
        "  print(\"\\n2. Hypothesis\")\n",
        "  print(f\"H0: µ{year1} - µ{year2} ≧ 0\")\n",
        "  print(f\"Ha: µ{year1} - µ{year2} < 0\")\n",
        "\n",
        "\n",
        "  print(\"\\n3. Perform F test to check if the sample variance are the same\")\n",
        "  f_pval = F_test(df1_std, df2_std, df_n)\n",
        "  if f_pval < 0.025:\n",
        "    print(f\"Since the p-value({f_pval}) is less than 0.025, H0 is rejected.\")\n",
        "    print(f\"There is sufficient evidence to indicate the variances of female student ratio for year {year1} and year {year2} differ at alpha = 0.05\")\n",
        "    t, p_value = stats.ttest_ind(df1['Total'], df2['Total'], equal_var=False, alternative=\"less\")\n",
        "  else:\n",
        "    print(f\"Since the p-value({f_pval}) is greater than 0.025, H0 is not rejected.\")\n",
        "    print(f\"There is insufficient evidence to indicate the variances of female student ratio for year {year1} and year {year2} differ at alpha = 0.05\")\n",
        "    t, p_value = stats.ttest_ind(df1['Total'], df2['Total'], equal_var=True, alternative=\"less\")\n",
        "\n",
        "\n",
        "  print(\"\\n4. Perform 1-sided, 2-sample t-test\")\n",
        "  print(f\"the test statistic is {t}, p-value is {p_value}\")\n",
        "\n",
        "  alpha = 0.05\n",
        "  if p_value < alpha:\n",
        "    print(f\"Since the p-value is less than 0.05, H0 is rejected.\")\n",
        "    print(f\"There is sufficient evidence to indicate that there is a difference in the mean number of female student ratio in year {year1} and year {year2} at alpha = 0.05.\")\n",
        "  else:\n",
        "    print(f\"Since the p-value is greater than 0.05, H0 is not rejected.\")\n",
        "    print(f\"There is insufficient evidence to indicate that there is a difference in the mean number of female student ratio in year {year1} and year {year2} at alpha = 0.05.\")"
      ],
      "metadata": {
        "id": "1acgZp-aIG8c"
      },
      "execution_count": 67,
      "outputs": []
    },
    {
      "cell_type": "markdown",
      "source": [
        "## statistical test (6 years)"
      ],
      "metadata": {
        "id": "fBp-xWcfL7n-"
      }
    },
    {
      "cell_type": "markdown",
      "source": [
        "load data"
      ],
      "metadata": {
        "id": "V2pYTGA1MKsj"
      }
    },
    {
      "cell_type": "code",
      "source": [
        "# GitHub filepath\n",
        "# url = \"https://raw.githubusercontent.com/YiHsiu7893/Statistics_Final/refs/heads/main/data/cs_students.csv\"\n",
        "\n",
        "# df = pd.read_csv(url)\n",
        "df = pd.read_csv('cs_students(6).csv')\n",
        "df.head()"
      ],
      "metadata": {
        "colab": {
          "base_uri": "https://localhost:8080/",
          "height": 206
        },
        "id": "0Ja2dPnzjtPb",
        "outputId": "482b3bc4-d37e-4246-e44b-8f0c46299c8b"
      },
      "execution_count": 68,
      "outputs": [
        {
          "output_type": "execute_result",
          "data": {
            "text/plain": [
              "   Year    School  Total  Male  Female     Type Ownership\n",
              "0   107    國立清華大學    584   445     139  General    Public\n",
              "1   107    國立臺灣大學    554   485      69  General    Public\n",
              "2   107  國立臺灣師範大學    201   161      40  General    Public\n",
              "3   107    國立成功大學    478   364     114  General    Public\n",
              "4   107    國立交通大學    781   629     152  General    Public"
            ],
            "text/html": [
              "\n",
              "  <div id=\"df-16cf0a39-3a58-4605-a1df-8ac57e7d64a1\" class=\"colab-df-container\">\n",
              "    <div>\n",
              "<style scoped>\n",
              "    .dataframe tbody tr th:only-of-type {\n",
              "        vertical-align: middle;\n",
              "    }\n",
              "\n",
              "    .dataframe tbody tr th {\n",
              "        vertical-align: top;\n",
              "    }\n",
              "\n",
              "    .dataframe thead th {\n",
              "        text-align: right;\n",
              "    }\n",
              "</style>\n",
              "<table border=\"1\" class=\"dataframe\">\n",
              "  <thead>\n",
              "    <tr style=\"text-align: right;\">\n",
              "      <th></th>\n",
              "      <th>Year</th>\n",
              "      <th>School</th>\n",
              "      <th>Total</th>\n",
              "      <th>Male</th>\n",
              "      <th>Female</th>\n",
              "      <th>Type</th>\n",
              "      <th>Ownership</th>\n",
              "    </tr>\n",
              "  </thead>\n",
              "  <tbody>\n",
              "    <tr>\n",
              "      <th>0</th>\n",
              "      <td>107</td>\n",
              "      <td>國立清華大學</td>\n",
              "      <td>584</td>\n",
              "      <td>445</td>\n",
              "      <td>139</td>\n",
              "      <td>General</td>\n",
              "      <td>Public</td>\n",
              "    </tr>\n",
              "    <tr>\n",
              "      <th>1</th>\n",
              "      <td>107</td>\n",
              "      <td>國立臺灣大學</td>\n",
              "      <td>554</td>\n",
              "      <td>485</td>\n",
              "      <td>69</td>\n",
              "      <td>General</td>\n",
              "      <td>Public</td>\n",
              "    </tr>\n",
              "    <tr>\n",
              "      <th>2</th>\n",
              "      <td>107</td>\n",
              "      <td>國立臺灣師範大學</td>\n",
              "      <td>201</td>\n",
              "      <td>161</td>\n",
              "      <td>40</td>\n",
              "      <td>General</td>\n",
              "      <td>Public</td>\n",
              "    </tr>\n",
              "    <tr>\n",
              "      <th>3</th>\n",
              "      <td>107</td>\n",
              "      <td>國立成功大學</td>\n",
              "      <td>478</td>\n",
              "      <td>364</td>\n",
              "      <td>114</td>\n",
              "      <td>General</td>\n",
              "      <td>Public</td>\n",
              "    </tr>\n",
              "    <tr>\n",
              "      <th>4</th>\n",
              "      <td>107</td>\n",
              "      <td>國立交通大學</td>\n",
              "      <td>781</td>\n",
              "      <td>629</td>\n",
              "      <td>152</td>\n",
              "      <td>General</td>\n",
              "      <td>Public</td>\n",
              "    </tr>\n",
              "  </tbody>\n",
              "</table>\n",
              "</div>\n",
              "    <div class=\"colab-df-buttons\">\n",
              "\n",
              "  <div class=\"colab-df-container\">\n",
              "    <button class=\"colab-df-convert\" onclick=\"convertToInteractive('df-16cf0a39-3a58-4605-a1df-8ac57e7d64a1')\"\n",
              "            title=\"Convert this dataframe to an interactive table.\"\n",
              "            style=\"display:none;\">\n",
              "\n",
              "  <svg xmlns=\"http://www.w3.org/2000/svg\" height=\"24px\" viewBox=\"0 -960 960 960\">\n",
              "    <path d=\"M120-120v-720h720v720H120Zm60-500h600v-160H180v160Zm220 220h160v-160H400v160Zm0 220h160v-160H400v160ZM180-400h160v-160H180v160Zm440 0h160v-160H620v160ZM180-180h160v-160H180v160Zm440 0h160v-160H620v160Z\"/>\n",
              "  </svg>\n",
              "    </button>\n",
              "\n",
              "  <style>\n",
              "    .colab-df-container {\n",
              "      display:flex;\n",
              "      gap: 12px;\n",
              "    }\n",
              "\n",
              "    .colab-df-convert {\n",
              "      background-color: #E8F0FE;\n",
              "      border: none;\n",
              "      border-radius: 50%;\n",
              "      cursor: pointer;\n",
              "      display: none;\n",
              "      fill: #1967D2;\n",
              "      height: 32px;\n",
              "      padding: 0 0 0 0;\n",
              "      width: 32px;\n",
              "    }\n",
              "\n",
              "    .colab-df-convert:hover {\n",
              "      background-color: #E2EBFA;\n",
              "      box-shadow: 0px 1px 2px rgba(60, 64, 67, 0.3), 0px 1px 3px 1px rgba(60, 64, 67, 0.15);\n",
              "      fill: #174EA6;\n",
              "    }\n",
              "\n",
              "    .colab-df-buttons div {\n",
              "      margin-bottom: 4px;\n",
              "    }\n",
              "\n",
              "    [theme=dark] .colab-df-convert {\n",
              "      background-color: #3B4455;\n",
              "      fill: #D2E3FC;\n",
              "    }\n",
              "\n",
              "    [theme=dark] .colab-df-convert:hover {\n",
              "      background-color: #434B5C;\n",
              "      box-shadow: 0px 1px 3px 1px rgba(0, 0, 0, 0.15);\n",
              "      filter: drop-shadow(0px 1px 2px rgba(0, 0, 0, 0.3));\n",
              "      fill: #FFFFFF;\n",
              "    }\n",
              "  </style>\n",
              "\n",
              "    <script>\n",
              "      const buttonEl =\n",
              "        document.querySelector('#df-16cf0a39-3a58-4605-a1df-8ac57e7d64a1 button.colab-df-convert');\n",
              "      buttonEl.style.display =\n",
              "        google.colab.kernel.accessAllowed ? 'block' : 'none';\n",
              "\n",
              "      async function convertToInteractive(key) {\n",
              "        const element = document.querySelector('#df-16cf0a39-3a58-4605-a1df-8ac57e7d64a1');\n",
              "        const dataTable =\n",
              "          await google.colab.kernel.invokeFunction('convertToInteractive',\n",
              "                                                    [key], {});\n",
              "        if (!dataTable) return;\n",
              "\n",
              "        const docLinkHtml = 'Like what you see? Visit the ' +\n",
              "          '<a target=\"_blank\" href=https://colab.research.google.com/notebooks/data_table.ipynb>data table notebook</a>'\n",
              "          + ' to learn more about interactive tables.';\n",
              "        element.innerHTML = '';\n",
              "        dataTable['output_type'] = 'display_data';\n",
              "        await google.colab.output.renderOutput(dataTable, element);\n",
              "        const docLink = document.createElement('div');\n",
              "        docLink.innerHTML = docLinkHtml;\n",
              "        element.appendChild(docLink);\n",
              "      }\n",
              "    </script>\n",
              "  </div>\n",
              "\n",
              "\n",
              "<div id=\"df-a44e81f6-6ece-457e-97d4-bcb2e10811bc\">\n",
              "  <button class=\"colab-df-quickchart\" onclick=\"quickchart('df-a44e81f6-6ece-457e-97d4-bcb2e10811bc')\"\n",
              "            title=\"Suggest charts\"\n",
              "            style=\"display:none;\">\n",
              "\n",
              "<svg xmlns=\"http://www.w3.org/2000/svg\" height=\"24px\"viewBox=\"0 0 24 24\"\n",
              "     width=\"24px\">\n",
              "    <g>\n",
              "        <path d=\"M19 3H5c-1.1 0-2 .9-2 2v14c0 1.1.9 2 2 2h14c1.1 0 2-.9 2-2V5c0-1.1-.9-2-2-2zM9 17H7v-7h2v7zm4 0h-2V7h2v10zm4 0h-2v-4h2v4z\"/>\n",
              "    </g>\n",
              "</svg>\n",
              "  </button>\n",
              "\n",
              "<style>\n",
              "  .colab-df-quickchart {\n",
              "      --bg-color: #E8F0FE;\n",
              "      --fill-color: #1967D2;\n",
              "      --hover-bg-color: #E2EBFA;\n",
              "      --hover-fill-color: #174EA6;\n",
              "      --disabled-fill-color: #AAA;\n",
              "      --disabled-bg-color: #DDD;\n",
              "  }\n",
              "\n",
              "  [theme=dark] .colab-df-quickchart {\n",
              "      --bg-color: #3B4455;\n",
              "      --fill-color: #D2E3FC;\n",
              "      --hover-bg-color: #434B5C;\n",
              "      --hover-fill-color: #FFFFFF;\n",
              "      --disabled-bg-color: #3B4455;\n",
              "      --disabled-fill-color: #666;\n",
              "  }\n",
              "\n",
              "  .colab-df-quickchart {\n",
              "    background-color: var(--bg-color);\n",
              "    border: none;\n",
              "    border-radius: 50%;\n",
              "    cursor: pointer;\n",
              "    display: none;\n",
              "    fill: var(--fill-color);\n",
              "    height: 32px;\n",
              "    padding: 0;\n",
              "    width: 32px;\n",
              "  }\n",
              "\n",
              "  .colab-df-quickchart:hover {\n",
              "    background-color: var(--hover-bg-color);\n",
              "    box-shadow: 0 1px 2px rgba(60, 64, 67, 0.3), 0 1px 3px 1px rgba(60, 64, 67, 0.15);\n",
              "    fill: var(--button-hover-fill-color);\n",
              "  }\n",
              "\n",
              "  .colab-df-quickchart-complete:disabled,\n",
              "  .colab-df-quickchart-complete:disabled:hover {\n",
              "    background-color: var(--disabled-bg-color);\n",
              "    fill: var(--disabled-fill-color);\n",
              "    box-shadow: none;\n",
              "  }\n",
              "\n",
              "  .colab-df-spinner {\n",
              "    border: 2px solid var(--fill-color);\n",
              "    border-color: transparent;\n",
              "    border-bottom-color: var(--fill-color);\n",
              "    animation:\n",
              "      spin 1s steps(1) infinite;\n",
              "  }\n",
              "\n",
              "  @keyframes spin {\n",
              "    0% {\n",
              "      border-color: transparent;\n",
              "      border-bottom-color: var(--fill-color);\n",
              "      border-left-color: var(--fill-color);\n",
              "    }\n",
              "    20% {\n",
              "      border-color: transparent;\n",
              "      border-left-color: var(--fill-color);\n",
              "      border-top-color: var(--fill-color);\n",
              "    }\n",
              "    30% {\n",
              "      border-color: transparent;\n",
              "      border-left-color: var(--fill-color);\n",
              "      border-top-color: var(--fill-color);\n",
              "      border-right-color: var(--fill-color);\n",
              "    }\n",
              "    40% {\n",
              "      border-color: transparent;\n",
              "      border-right-color: var(--fill-color);\n",
              "      border-top-color: var(--fill-color);\n",
              "    }\n",
              "    60% {\n",
              "      border-color: transparent;\n",
              "      border-right-color: var(--fill-color);\n",
              "    }\n",
              "    80% {\n",
              "      border-color: transparent;\n",
              "      border-right-color: var(--fill-color);\n",
              "      border-bottom-color: var(--fill-color);\n",
              "    }\n",
              "    90% {\n",
              "      border-color: transparent;\n",
              "      border-bottom-color: var(--fill-color);\n",
              "    }\n",
              "  }\n",
              "</style>\n",
              "\n",
              "  <script>\n",
              "    async function quickchart(key) {\n",
              "      const quickchartButtonEl =\n",
              "        document.querySelector('#' + key + ' button');\n",
              "      quickchartButtonEl.disabled = true;  // To prevent multiple clicks.\n",
              "      quickchartButtonEl.classList.add('colab-df-spinner');\n",
              "      try {\n",
              "        const charts = await google.colab.kernel.invokeFunction(\n",
              "            'suggestCharts', [key], {});\n",
              "      } catch (error) {\n",
              "        console.error('Error during call to suggestCharts:', error);\n",
              "      }\n",
              "      quickchartButtonEl.classList.remove('colab-df-spinner');\n",
              "      quickchartButtonEl.classList.add('colab-df-quickchart-complete');\n",
              "    }\n",
              "    (() => {\n",
              "      let quickchartButtonEl =\n",
              "        document.querySelector('#df-a44e81f6-6ece-457e-97d4-bcb2e10811bc button');\n",
              "      quickchartButtonEl.style.display =\n",
              "        google.colab.kernel.accessAllowed ? 'block' : 'none';\n",
              "    })();\n",
              "  </script>\n",
              "</div>\n",
              "\n",
              "    </div>\n",
              "  </div>\n"
            ],
            "application/vnd.google.colaboratory.intrinsic+json": {
              "type": "dataframe",
              "variable_name": "df",
              "summary": "{\n  \"name\": \"df\",\n  \"rows\": 397,\n  \"fields\": [\n    {\n      \"column\": \"Year\",\n      \"properties\": {\n        \"dtype\": \"number\",\n        \"std\": 1,\n        \"min\": 107,\n        \"max\": 112,\n        \"num_unique_values\": 6,\n        \"samples\": [\n          107,\n          108,\n          112\n        ],\n        \"semantic_type\": \"\",\n        \"description\": \"\"\n      }\n    },\n    {\n      \"column\": \"School\",\n      \"properties\": {\n        \"dtype\": \"category\",\n        \"num_unique_values\": 69,\n        \"samples\": [\n          \"\\u570b\\u7acb\\u81fa\\u5357\\u5927\\u5b78\",\n          \"\\u570b\\u7acb\\u6e05\\u83ef\\u5927\\u5b78\",\n          \"\\u5d11\\u5c71\\u79d1\\u6280\\u5927\\u5b78\"\n        ],\n        \"semantic_type\": \"\",\n        \"description\": \"\"\n      }\n    },\n    {\n      \"column\": \"Total\",\n      \"properties\": {\n        \"dtype\": \"number\",\n        \"std\": 188,\n        \"min\": 1,\n        \"max\": 1043,\n        \"num_unique_values\": 291,\n        \"samples\": [\n          241,\n          408,\n          440\n        ],\n        \"semantic_type\": \"\",\n        \"description\": \"\"\n      }\n    },\n    {\n      \"column\": \"Male\",\n      \"properties\": {\n        \"dtype\": \"number\",\n        \"std\": 152,\n        \"min\": 1,\n        \"max\": 828,\n        \"num_unique_values\": 266,\n        \"samples\": [\n          287,\n          143,\n          321\n        ],\n        \"semantic_type\": \"\",\n        \"description\": \"\"\n      }\n    },\n    {\n      \"column\": \"Female\",\n      \"properties\": {\n        \"dtype\": \"number\",\n        \"std\": 47,\n        \"min\": 0,\n        \"max\": 247,\n        \"num_unique_values\": 140,\n        \"samples\": [\n          159,\n          118,\n          78\n        ],\n        \"semantic_type\": \"\",\n        \"description\": \"\"\n      }\n    },\n    {\n      \"column\": \"Type\",\n      \"properties\": {\n        \"dtype\": \"category\",\n        \"num_unique_values\": 2,\n        \"samples\": [\n          \"Tech\",\n          \"General\"\n        ],\n        \"semantic_type\": \"\",\n        \"description\": \"\"\n      }\n    },\n    {\n      \"column\": \"Ownership\",\n      \"properties\": {\n        \"dtype\": \"category\",\n        \"num_unique_values\": 2,\n        \"samples\": [\n          \"Private\",\n          \"Public\"\n        ],\n        \"semantic_type\": \"\",\n        \"description\": \"\"\n      }\n    }\n  ]\n}"
            }
          },
          "metadata": {},
          "execution_count": 68
        }
      ]
    },
    {
      "cell_type": "markdown",
      "source": [
        "split into four categories\n",
        "\n",
        "(general, public), (general, private), (tech, public), (tech, private)"
      ],
      "metadata": {
        "id": "I8oiN_Zpl5cx"
      }
    },
    {
      "cell_type": "code",
      "source": [
        "general_public = df[(df['Type'] == 'General') & (df['Ownership'] == 'Public')]\n",
        "general_private = df[(df['Type'] == 'General') & (df['Ownership'] == 'Private')]\n",
        "tech_public = df[(df['Type'] == 'Tech') & (df['Ownership'] == 'Public')]\n",
        "tech_private = df[(df['Type'] == 'Tech') & (df['Ownership'] == 'Private')]\n",
        "\n",
        "print(\"number of schools in each category\")\n",
        "print(\"general, public：\", len(general_public['School'].unique()))\n",
        "print(\"general, private：\", len(general_private['School'].unique()))\n",
        "print(\"tech, public：\", len(tech_public['School'].unique()))\n",
        "print(\"tech, private：\", len(tech_private['School'].unique()))"
      ],
      "metadata": {
        "colab": {
          "base_uri": "https://localhost:8080/"
        },
        "id": "CcWm24v-l04O",
        "outputId": "163f27e6-836d-4d27-f7d5-081cbc55b718"
      },
      "execution_count": 69,
      "outputs": [
        {
          "output_type": "stream",
          "name": "stdout",
          "text": [
            "number of schools in each category\n",
            "general, public： 23\n",
            "general, private： 18\n",
            "tech, public： 8\n",
            "tech, private： 20\n"
          ]
        }
      ]
    },
    {
      "cell_type": "markdown",
      "source": [
        "### statistical testing of each category"
      ],
      "metadata": {
        "id": "v1nBUyLxM267"
      }
    },
    {
      "cell_type": "markdown",
      "source": [
        "1. general, public"
      ],
      "metadata": {
        "id": "yl0F_tatM268"
      }
    },
    {
      "cell_type": "code",
      "source": [
        "t_test(general_public, 107, 112)"
      ],
      "metadata": {
        "colab": {
          "base_uri": "https://localhost:8080/"
        },
        "outputId": "6abde11c-9281-4fb1-8cfd-f19dec37e78e",
        "id": "obbrerE-M269"
      },
      "execution_count": 70,
      "outputs": [
        {
          "output_type": "stream",
          "name": "stdout",
          "text": [
            "1. Analyze Statistical Measures\n",
            "Calculate the average female student ratio (µ107 & µ112) for each school in the academic years 107 and 112\n",
            "number of schools: 23\n",
            "mean number of female student ratio in year 107:  313.72727272727275\n",
            "mean number of female student ratio in year 112:  344.5652173913044\n",
            "std of female student ratio in year 107:  172.73105486859424\n",
            "std of female student ratio in year 112:  181.08180624612646\n",
            "\n",
            "2. Hypothesis\n",
            "H0: µ107 - µ112 ≧ 0\n",
            "Ha: µ107 - µ112 < 0\n",
            "\n",
            "3. Perform F test to check if the sample variance are the same\n",
            "H0: the variances are the same, Ha: the variances are different\n",
            "Since the p-value(0.4133610278641862) is greater than 0.025, H0 is not rejected.\n",
            "There is insufficient evidence to indicate the variances of female student ratio for year 107 and year 112 differ at alpha = 0.05\n",
            "\n",
            "4. Perform 1-sided, 2-sample t-test\n",
            "the test statistic is -0.5840523289455661, p-value is 0.2811183693684919\n",
            "Since the p-value is greater than 0.05, H0 is not rejected.\n",
            "There is insufficient evidence to indicate that there is a difference in the mean number of female student ratio in year 107 and year 112 at alpha = 0.05.\n"
          ]
        }
      ]
    },
    {
      "cell_type": "markdown",
      "source": [
        "2. general, private"
      ],
      "metadata": {
        "id": "rJykGv5CM26-"
      }
    },
    {
      "cell_type": "code",
      "source": [
        "t_test(general_private, 107, 112)"
      ],
      "metadata": {
        "colab": {
          "base_uri": "https://localhost:8080/"
        },
        "outputId": "cce61d97-0fe8-44e9-d4cd-9fd532a2a6e5",
        "id": "k2z9oSr1M26-"
      },
      "execution_count": 71,
      "outputs": [
        {
          "output_type": "stream",
          "name": "stdout",
          "text": [
            "1. Analyze Statistical Measures\n",
            "Calculate the average female student ratio (µ107 & µ112) for each school in the academic years 107 and 112\n",
            "number of schools: 18\n",
            "mean number of female student ratio in year 107:  435.3888888888889\n",
            "mean number of female student ratio in year 112:  476.0\n",
            "std of female student ratio in year 107:  188.92268536560567\n",
            "std of female student ratio in year 112:  222.99986810863945\n",
            "\n",
            "2. Hypothesis\n",
            "H0: µ107 - µ112 ≧ 0\n",
            "Ha: µ107 - µ112 < 0\n",
            "\n",
            "3. Perform F test to check if the sample variance are the same\n",
            "H0: the variances are the same, Ha: the variances are different\n",
            "Since the p-value(0.250708774250005) is greater than 0.025, H0 is not rejected.\n",
            "There is insufficient evidence to indicate the variances of female student ratio for year 107 and year 112 differ at alpha = 0.05\n",
            "\n",
            "4. Perform 1-sided, 2-sample t-test\n",
            "the test statistic is -0.5895213050029624, p-value is 0.27970449333992153\n",
            "Since the p-value is greater than 0.05, H0 is not rejected.\n",
            "There is insufficient evidence to indicate that there is a difference in the mean number of female student ratio in year 107 and year 112 at alpha = 0.05.\n"
          ]
        }
      ]
    },
    {
      "cell_type": "markdown",
      "source": [
        "3. tech, public"
      ],
      "metadata": {
        "id": "r5kYWs3NM26_"
      }
    },
    {
      "cell_type": "code",
      "source": [
        "t_test(tech_public, 107, 112)"
      ],
      "metadata": {
        "colab": {
          "base_uri": "https://localhost:8080/"
        },
        "outputId": "afee6875-8816-43b0-a9ca-e84053a61f5c",
        "id": "Dz4ndavLM26_"
      },
      "execution_count": 72,
      "outputs": [
        {
          "output_type": "stream",
          "name": "stdout",
          "text": [
            "1. Analyze Statistical Measures\n",
            "Calculate the average female student ratio (µ107 & µ112) for each school in the academic years 107 and 112\n",
            "number of schools: 8\n",
            "mean number of female student ratio in year 107:  319.0\n",
            "mean number of female student ratio in year 112:  367.0\n",
            "std of female student ratio in year 107:  133.21411336641475\n",
            "std of female student ratio in year 112:  127.93636811209815\n",
            "\n",
            "2. Hypothesis\n",
            "H0: µ107 - µ112 ≧ 0\n",
            "Ha: µ107 - µ112 < 0\n",
            "\n",
            "3. Perform F test to check if the sample variance are the same\n",
            "H0: the variances are the same, Ha: the variances are different\n",
            "Since the p-value(0.5410978978115627) is greater than 0.025, H0 is not rejected.\n",
            "There is insufficient evidence to indicate the variances of female student ratio for year 107 and year 112 differ at alpha = 0.05\n",
            "\n",
            "4. Perform 1-sided, 2-sample t-test\n",
            "the test statistic is -0.7112397782512805, p-value is 0.24475079549365297\n",
            "Since the p-value is greater than 0.05, H0 is not rejected.\n",
            "There is insufficient evidence to indicate that there is a difference in the mean number of female student ratio in year 107 and year 112 at alpha = 0.05.\n"
          ]
        }
      ]
    },
    {
      "cell_type": "markdown",
      "source": [
        "4. tech, private"
      ],
      "metadata": {
        "id": "He61eG7GM26_"
      }
    },
    {
      "cell_type": "code",
      "source": [
        "t_test(tech_private, 107, 112)"
      ],
      "metadata": {
        "colab": {
          "base_uri": "https://localhost:8080/"
        },
        "outputId": "66afd2f8-b537-48f7-e23f-55f900597033",
        "id": "AP4wN4oBM27A"
      },
      "execution_count": 73,
      "outputs": [
        {
          "output_type": "stream",
          "name": "stdout",
          "text": [
            "1. Analyze Statistical Measures\n",
            "Calculate the average female student ratio (µ107 & µ112) for each school in the academic years 107 and 112\n",
            "number of schools: 20\n",
            "mean number of female student ratio in year 107:  259.15\n",
            "mean number of female student ratio in year 112:  223.3125\n",
            "std of female student ratio in year 107:  156.76743586398428\n",
            "std of female student ratio in year 112:  161.39587716749975\n",
            "\n",
            "2. Hypothesis\n",
            "H0: µ107 - µ112 ≧ 0\n",
            "Ha: µ107 - µ112 < 0\n",
            "\n",
            "3. Perform F test to check if the sample variance are the same\n",
            "H0: the variances are the same, Ha: the variances are different\n",
            "Since the p-value(0.45019678231304794) is greater than 0.025, H0 is not rejected.\n",
            "There is insufficient evidence to indicate the variances of female student ratio for year 107 and year 112 differ at alpha = 0.05\n",
            "\n",
            "4. Perform 1-sided, 2-sample t-test\n",
            "the test statistic is 0.6727284335979001, p-value is 0.7471665575728981\n",
            "Since the p-value is greater than 0.05, H0 is not rejected.\n",
            "There is insufficient evidence to indicate that there is a difference in the mean number of female student ratio in year 107 and year 112 at alpha = 0.05.\n"
          ]
        }
      ]
    },
    {
      "cell_type": "markdown",
      "source": [
        "## statistical test (10 years)"
      ],
      "metadata": {
        "id": "XPf02xavMWRM"
      }
    },
    {
      "cell_type": "markdown",
      "source": [
        "load data"
      ],
      "metadata": {
        "id": "8Mh2tyTaMWRM"
      }
    },
    {
      "cell_type": "code",
      "source": [
        "# GitHub filepath\n",
        "# url = \"https://raw.githubusercontent.com/YiHsiu7893/Statistics_Final/refs/heads/main/data/cs_students.csv\"\n",
        "\n",
        "# df = pd.read_csv(url)\n",
        "df = pd.read_csv('cs_students(10).csv')\n",
        "df.head()"
      ],
      "metadata": {
        "colab": {
          "base_uri": "https://localhost:8080/",
          "height": 206
        },
        "outputId": "334323f5-643a-46a6-afa9-32008014a247",
        "id": "s9xI-Il0MWRN"
      },
      "execution_count": 74,
      "outputs": [
        {
          "output_type": "execute_result",
          "data": {
            "text/plain": [
              "   Year  School  Total  Male  Female     Type Ownership\n",
              "0   103    中原大學    442   372      70  General   Private\n",
              "1   103  中國文化大學    459   396      63  General   Private\n",
              "2   103  中國科技大學    178   170       8     Tech   Private\n",
              "3   103    中華大學    393   341      52  General   Private\n",
              "4   103  中華科技大學    348   316      32     Tech   Private"
            ],
            "text/html": [
              "\n",
              "  <div id=\"df-69a97955-5913-4ba6-9a65-3fd2bd87777a\" class=\"colab-df-container\">\n",
              "    <div>\n",
              "<style scoped>\n",
              "    .dataframe tbody tr th:only-of-type {\n",
              "        vertical-align: middle;\n",
              "    }\n",
              "\n",
              "    .dataframe tbody tr th {\n",
              "        vertical-align: top;\n",
              "    }\n",
              "\n",
              "    .dataframe thead th {\n",
              "        text-align: right;\n",
              "    }\n",
              "</style>\n",
              "<table border=\"1\" class=\"dataframe\">\n",
              "  <thead>\n",
              "    <tr style=\"text-align: right;\">\n",
              "      <th></th>\n",
              "      <th>Year</th>\n",
              "      <th>School</th>\n",
              "      <th>Total</th>\n",
              "      <th>Male</th>\n",
              "      <th>Female</th>\n",
              "      <th>Type</th>\n",
              "      <th>Ownership</th>\n",
              "    </tr>\n",
              "  </thead>\n",
              "  <tbody>\n",
              "    <tr>\n",
              "      <th>0</th>\n",
              "      <td>103</td>\n",
              "      <td>中原大學</td>\n",
              "      <td>442</td>\n",
              "      <td>372</td>\n",
              "      <td>70</td>\n",
              "      <td>General</td>\n",
              "      <td>Private</td>\n",
              "    </tr>\n",
              "    <tr>\n",
              "      <th>1</th>\n",
              "      <td>103</td>\n",
              "      <td>中國文化大學</td>\n",
              "      <td>459</td>\n",
              "      <td>396</td>\n",
              "      <td>63</td>\n",
              "      <td>General</td>\n",
              "      <td>Private</td>\n",
              "    </tr>\n",
              "    <tr>\n",
              "      <th>2</th>\n",
              "      <td>103</td>\n",
              "      <td>中國科技大學</td>\n",
              "      <td>178</td>\n",
              "      <td>170</td>\n",
              "      <td>8</td>\n",
              "      <td>Tech</td>\n",
              "      <td>Private</td>\n",
              "    </tr>\n",
              "    <tr>\n",
              "      <th>3</th>\n",
              "      <td>103</td>\n",
              "      <td>中華大學</td>\n",
              "      <td>393</td>\n",
              "      <td>341</td>\n",
              "      <td>52</td>\n",
              "      <td>General</td>\n",
              "      <td>Private</td>\n",
              "    </tr>\n",
              "    <tr>\n",
              "      <th>4</th>\n",
              "      <td>103</td>\n",
              "      <td>中華科技大學</td>\n",
              "      <td>348</td>\n",
              "      <td>316</td>\n",
              "      <td>32</td>\n",
              "      <td>Tech</td>\n",
              "      <td>Private</td>\n",
              "    </tr>\n",
              "  </tbody>\n",
              "</table>\n",
              "</div>\n",
              "    <div class=\"colab-df-buttons\">\n",
              "\n",
              "  <div class=\"colab-df-container\">\n",
              "    <button class=\"colab-df-convert\" onclick=\"convertToInteractive('df-69a97955-5913-4ba6-9a65-3fd2bd87777a')\"\n",
              "            title=\"Convert this dataframe to an interactive table.\"\n",
              "            style=\"display:none;\">\n",
              "\n",
              "  <svg xmlns=\"http://www.w3.org/2000/svg\" height=\"24px\" viewBox=\"0 -960 960 960\">\n",
              "    <path d=\"M120-120v-720h720v720H120Zm60-500h600v-160H180v160Zm220 220h160v-160H400v160Zm0 220h160v-160H400v160ZM180-400h160v-160H180v160Zm440 0h160v-160H620v160ZM180-180h160v-160H180v160Zm440 0h160v-160H620v160Z\"/>\n",
              "  </svg>\n",
              "    </button>\n",
              "\n",
              "  <style>\n",
              "    .colab-df-container {\n",
              "      display:flex;\n",
              "      gap: 12px;\n",
              "    }\n",
              "\n",
              "    .colab-df-convert {\n",
              "      background-color: #E8F0FE;\n",
              "      border: none;\n",
              "      border-radius: 50%;\n",
              "      cursor: pointer;\n",
              "      display: none;\n",
              "      fill: #1967D2;\n",
              "      height: 32px;\n",
              "      padding: 0 0 0 0;\n",
              "      width: 32px;\n",
              "    }\n",
              "\n",
              "    .colab-df-convert:hover {\n",
              "      background-color: #E2EBFA;\n",
              "      box-shadow: 0px 1px 2px rgba(60, 64, 67, 0.3), 0px 1px 3px 1px rgba(60, 64, 67, 0.15);\n",
              "      fill: #174EA6;\n",
              "    }\n",
              "\n",
              "    .colab-df-buttons div {\n",
              "      margin-bottom: 4px;\n",
              "    }\n",
              "\n",
              "    [theme=dark] .colab-df-convert {\n",
              "      background-color: #3B4455;\n",
              "      fill: #D2E3FC;\n",
              "    }\n",
              "\n",
              "    [theme=dark] .colab-df-convert:hover {\n",
              "      background-color: #434B5C;\n",
              "      box-shadow: 0px 1px 3px 1px rgba(0, 0, 0, 0.15);\n",
              "      filter: drop-shadow(0px 1px 2px rgba(0, 0, 0, 0.3));\n",
              "      fill: #FFFFFF;\n",
              "    }\n",
              "  </style>\n",
              "\n",
              "    <script>\n",
              "      const buttonEl =\n",
              "        document.querySelector('#df-69a97955-5913-4ba6-9a65-3fd2bd87777a button.colab-df-convert');\n",
              "      buttonEl.style.display =\n",
              "        google.colab.kernel.accessAllowed ? 'block' : 'none';\n",
              "\n",
              "      async function convertToInteractive(key) {\n",
              "        const element = document.querySelector('#df-69a97955-5913-4ba6-9a65-3fd2bd87777a');\n",
              "        const dataTable =\n",
              "          await google.colab.kernel.invokeFunction('convertToInteractive',\n",
              "                                                    [key], {});\n",
              "        if (!dataTable) return;\n",
              "\n",
              "        const docLinkHtml = 'Like what you see? Visit the ' +\n",
              "          '<a target=\"_blank\" href=https://colab.research.google.com/notebooks/data_table.ipynb>data table notebook</a>'\n",
              "          + ' to learn more about interactive tables.';\n",
              "        element.innerHTML = '';\n",
              "        dataTable['output_type'] = 'display_data';\n",
              "        await google.colab.output.renderOutput(dataTable, element);\n",
              "        const docLink = document.createElement('div');\n",
              "        docLink.innerHTML = docLinkHtml;\n",
              "        element.appendChild(docLink);\n",
              "      }\n",
              "    </script>\n",
              "  </div>\n",
              "\n",
              "\n",
              "<div id=\"df-b3da13fb-ad15-4f28-a8c8-195dec421939\">\n",
              "  <button class=\"colab-df-quickchart\" onclick=\"quickchart('df-b3da13fb-ad15-4f28-a8c8-195dec421939')\"\n",
              "            title=\"Suggest charts\"\n",
              "            style=\"display:none;\">\n",
              "\n",
              "<svg xmlns=\"http://www.w3.org/2000/svg\" height=\"24px\"viewBox=\"0 0 24 24\"\n",
              "     width=\"24px\">\n",
              "    <g>\n",
              "        <path d=\"M19 3H5c-1.1 0-2 .9-2 2v14c0 1.1.9 2 2 2h14c1.1 0 2-.9 2-2V5c0-1.1-.9-2-2-2zM9 17H7v-7h2v7zm4 0h-2V7h2v10zm4 0h-2v-4h2v4z\"/>\n",
              "    </g>\n",
              "</svg>\n",
              "  </button>\n",
              "\n",
              "<style>\n",
              "  .colab-df-quickchart {\n",
              "      --bg-color: #E8F0FE;\n",
              "      --fill-color: #1967D2;\n",
              "      --hover-bg-color: #E2EBFA;\n",
              "      --hover-fill-color: #174EA6;\n",
              "      --disabled-fill-color: #AAA;\n",
              "      --disabled-bg-color: #DDD;\n",
              "  }\n",
              "\n",
              "  [theme=dark] .colab-df-quickchart {\n",
              "      --bg-color: #3B4455;\n",
              "      --fill-color: #D2E3FC;\n",
              "      --hover-bg-color: #434B5C;\n",
              "      --hover-fill-color: #FFFFFF;\n",
              "      --disabled-bg-color: #3B4455;\n",
              "      --disabled-fill-color: #666;\n",
              "  }\n",
              "\n",
              "  .colab-df-quickchart {\n",
              "    background-color: var(--bg-color);\n",
              "    border: none;\n",
              "    border-radius: 50%;\n",
              "    cursor: pointer;\n",
              "    display: none;\n",
              "    fill: var(--fill-color);\n",
              "    height: 32px;\n",
              "    padding: 0;\n",
              "    width: 32px;\n",
              "  }\n",
              "\n",
              "  .colab-df-quickchart:hover {\n",
              "    background-color: var(--hover-bg-color);\n",
              "    box-shadow: 0 1px 2px rgba(60, 64, 67, 0.3), 0 1px 3px 1px rgba(60, 64, 67, 0.15);\n",
              "    fill: var(--button-hover-fill-color);\n",
              "  }\n",
              "\n",
              "  .colab-df-quickchart-complete:disabled,\n",
              "  .colab-df-quickchart-complete:disabled:hover {\n",
              "    background-color: var(--disabled-bg-color);\n",
              "    fill: var(--disabled-fill-color);\n",
              "    box-shadow: none;\n",
              "  }\n",
              "\n",
              "  .colab-df-spinner {\n",
              "    border: 2px solid var(--fill-color);\n",
              "    border-color: transparent;\n",
              "    border-bottom-color: var(--fill-color);\n",
              "    animation:\n",
              "      spin 1s steps(1) infinite;\n",
              "  }\n",
              "\n",
              "  @keyframes spin {\n",
              "    0% {\n",
              "      border-color: transparent;\n",
              "      border-bottom-color: var(--fill-color);\n",
              "      border-left-color: var(--fill-color);\n",
              "    }\n",
              "    20% {\n",
              "      border-color: transparent;\n",
              "      border-left-color: var(--fill-color);\n",
              "      border-top-color: var(--fill-color);\n",
              "    }\n",
              "    30% {\n",
              "      border-color: transparent;\n",
              "      border-left-color: var(--fill-color);\n",
              "      border-top-color: var(--fill-color);\n",
              "      border-right-color: var(--fill-color);\n",
              "    }\n",
              "    40% {\n",
              "      border-color: transparent;\n",
              "      border-right-color: var(--fill-color);\n",
              "      border-top-color: var(--fill-color);\n",
              "    }\n",
              "    60% {\n",
              "      border-color: transparent;\n",
              "      border-right-color: var(--fill-color);\n",
              "    }\n",
              "    80% {\n",
              "      border-color: transparent;\n",
              "      border-right-color: var(--fill-color);\n",
              "      border-bottom-color: var(--fill-color);\n",
              "    }\n",
              "    90% {\n",
              "      border-color: transparent;\n",
              "      border-bottom-color: var(--fill-color);\n",
              "    }\n",
              "  }\n",
              "</style>\n",
              "\n",
              "  <script>\n",
              "    async function quickchart(key) {\n",
              "      const quickchartButtonEl =\n",
              "        document.querySelector('#' + key + ' button');\n",
              "      quickchartButtonEl.disabled = true;  // To prevent multiple clicks.\n",
              "      quickchartButtonEl.classList.add('colab-df-spinner');\n",
              "      try {\n",
              "        const charts = await google.colab.kernel.invokeFunction(\n",
              "            'suggestCharts', [key], {});\n",
              "      } catch (error) {\n",
              "        console.error('Error during call to suggestCharts:', error);\n",
              "      }\n",
              "      quickchartButtonEl.classList.remove('colab-df-spinner');\n",
              "      quickchartButtonEl.classList.add('colab-df-quickchart-complete');\n",
              "    }\n",
              "    (() => {\n",
              "      let quickchartButtonEl =\n",
              "        document.querySelector('#df-b3da13fb-ad15-4f28-a8c8-195dec421939 button');\n",
              "      quickchartButtonEl.style.display =\n",
              "        google.colab.kernel.accessAllowed ? 'block' : 'none';\n",
              "    })();\n",
              "  </script>\n",
              "</div>\n",
              "\n",
              "    </div>\n",
              "  </div>\n"
            ],
            "application/vnd.google.colaboratory.intrinsic+json": {
              "type": "dataframe",
              "variable_name": "df",
              "summary": "{\n  \"name\": \"df\",\n  \"rows\": 662,\n  \"fields\": [\n    {\n      \"column\": \"Year\",\n      \"properties\": {\n        \"dtype\": \"number\",\n        \"std\": 2,\n        \"min\": 103,\n        \"max\": 112,\n        \"num_unique_values\": 10,\n        \"samples\": [\n          111,\n          104,\n          108\n        ],\n        \"semantic_type\": \"\",\n        \"description\": \"\"\n      }\n    },\n    {\n      \"column\": \"School\",\n      \"properties\": {\n        \"dtype\": \"category\",\n        \"num_unique_values\": 72,\n        \"samples\": [\n          \"\\u4e2d\\u83ef\\u79d1\\u6280\\u5927\\u5b78\",\n          \"\\u9060\\u6771\\u79d1\\u6280\\u5927\\u5b78\",\n          \"\\u570b\\u7acb\\u5b9c\\u862d\\u5927\\u5b78\"\n        ],\n        \"semantic_type\": \"\",\n        \"description\": \"\"\n      }\n    },\n    {\n      \"column\": \"Total\",\n      \"properties\": {\n        \"dtype\": \"number\",\n        \"std\": 182,\n        \"min\": 1,\n        \"max\": 1043,\n        \"num_unique_values\": 391,\n        \"samples\": [\n          466,\n          482,\n          781\n        ],\n        \"semantic_type\": \"\",\n        \"description\": \"\"\n      }\n    },\n    {\n      \"column\": \"Male\",\n      \"properties\": {\n        \"dtype\": \"number\",\n        \"std\": 151,\n        \"min\": 1,\n        \"max\": 828,\n        \"num_unique_values\": 355,\n        \"samples\": [\n          472,\n          376,\n          321\n        ],\n        \"semantic_type\": \"\",\n        \"description\": \"\"\n      }\n    },\n    {\n      \"column\": \"Female\",\n      \"properties\": {\n        \"dtype\": \"number\",\n        \"std\": 42,\n        \"min\": 0,\n        \"max\": 247,\n        \"num_unique_values\": 154,\n        \"samples\": [\n          25,\n          49,\n          247\n        ],\n        \"semantic_type\": \"\",\n        \"description\": \"\"\n      }\n    },\n    {\n      \"column\": \"Type\",\n      \"properties\": {\n        \"dtype\": \"category\",\n        \"num_unique_values\": 2,\n        \"samples\": [\n          \"Tech\",\n          \"General\"\n        ],\n        \"semantic_type\": \"\",\n        \"description\": \"\"\n      }\n    },\n    {\n      \"column\": \"Ownership\",\n      \"properties\": {\n        \"dtype\": \"category\",\n        \"num_unique_values\": 2,\n        \"samples\": [\n          \"Public\",\n          \"Private\"\n        ],\n        \"semantic_type\": \"\",\n        \"description\": \"\"\n      }\n    }\n  ]\n}"
            }
          },
          "metadata": {},
          "execution_count": 74
        }
      ]
    },
    {
      "cell_type": "markdown",
      "source": [
        "split into four categories\n",
        "\n",
        "(general, public), (general, private), (tech, public), (tech, private)"
      ],
      "metadata": {
        "id": "ji1flcP-MWRN"
      }
    },
    {
      "cell_type": "code",
      "source": [
        "general_public = df[(df['Type'] == 'General') & (df['Ownership'] == 'Public')]\n",
        "general_private = df[(df['Type'] == 'General') & (df['Ownership'] == 'Private')]\n",
        "tech_public = df[(df['Type'] == 'Tech') & (df['Ownership'] == 'Public')]\n",
        "tech_private = df[(df['Type'] == 'Tech') & (df['Ownership'] == 'Private')]\n",
        "\n",
        "print(\"number of schools in each category\")\n",
        "print(\"general, public：\", len(general_public['School'].unique()))\n",
        "print(\"general, private：\", len(general_private['School'].unique()))\n",
        "print(\"tech, public：\", len(tech_public['School'].unique()))\n",
        "print(\"tech, private：\", len(tech_private['School'].unique()))"
      ],
      "metadata": {
        "colab": {
          "base_uri": "https://localhost:8080/"
        },
        "outputId": "1fc0b20f-48a2-416c-ce05-ac7f2da69a95",
        "id": "DOmBzc46MWRN"
      },
      "execution_count": 75,
      "outputs": [
        {
          "output_type": "stream",
          "name": "stdout",
          "text": [
            "number of schools in each category\n",
            "general, public： 23\n",
            "general, private： 18\n",
            "tech, public： 8\n",
            "tech, private： 23\n"
          ]
        }
      ]
    },
    {
      "cell_type": "markdown",
      "source": [
        "### statistical testing of each category"
      ],
      "metadata": {
        "id": "3jKJjR5vMWRN"
      }
    },
    {
      "cell_type": "markdown",
      "source": [
        "1. general, public"
      ],
      "metadata": {
        "id": "bKep4IfZMWRN"
      }
    },
    {
      "cell_type": "code",
      "source": [
        "t_test(general_public, 103, 112)"
      ],
      "metadata": {
        "colab": {
          "base_uri": "https://localhost:8080/"
        },
        "outputId": "e8bb0318-0450-4fe7-9ff2-e1121f7bcc7f",
        "id": "qrjYn0Z-MWRN"
      },
      "execution_count": 76,
      "outputs": [
        {
          "output_type": "stream",
          "name": "stdout",
          "text": [
            "1. Analyze Statistical Measures\n",
            "Calculate the average female student ratio (µ103 & µ112) for each school in the academic years 103 and 112\n",
            "number of schools: 23\n",
            "mean number of female student ratio in year 103:  304.7142857142857\n",
            "mean number of female student ratio in year 112:  344.5652173913044\n",
            "std of female student ratio in year 103:  167.43002802876873\n",
            "std of female student ratio in year 112:  181.08180624612646\n",
            "\n",
            "2. Hypothesis\n",
            "H0: µ103 - µ112 ≧ 0\n",
            "Ha: µ103 - µ112 < 0\n",
            "\n",
            "3. Perform F test to check if the sample variance are the same\n",
            "H0: the variances are the same, Ha: the variances are different\n",
            "Since the p-value(0.35818511258764923) is greater than 0.025, H0 is not rejected.\n",
            "There is insufficient evidence to indicate the variances of female student ratio for year 103 and year 112 differ at alpha = 0.05\n",
            "\n",
            "4. Perform 1-sided, 2-sample t-test\n",
            "the test statistic is -0.7557147182462142, p-value is 0.22701897458344067\n",
            "Since the p-value is greater than 0.05, H0 is not rejected.\n",
            "There is insufficient evidence to indicate that there is a difference in the mean number of female student ratio in year 103 and year 112 at alpha = 0.05.\n"
          ]
        }
      ]
    },
    {
      "cell_type": "markdown",
      "source": [
        "2. general, private"
      ],
      "metadata": {
        "id": "z7XTF4W5MWRN"
      }
    },
    {
      "cell_type": "code",
      "source": [
        "t_test(general_private, 103, 112)"
      ],
      "metadata": {
        "colab": {
          "base_uri": "https://localhost:8080/"
        },
        "outputId": "6f2a876a-71b6-4f6a-ad7a-e10935e20b67",
        "id": "14RPIRyIMWRN"
      },
      "execution_count": 77,
      "outputs": [
        {
          "output_type": "stream",
          "name": "stdout",
          "text": [
            "1. Analyze Statistical Measures\n",
            "Calculate the average female student ratio (µ103 & µ112) for each school in the academic years 103 and 112\n",
            "number of schools: 18\n",
            "mean number of female student ratio in year 103:  436.85714285714283\n",
            "mean number of female student ratio in year 112:  476.0\n",
            "std of female student ratio in year 103:  147.47978069649315\n",
            "std of female student ratio in year 112:  222.99986810863945\n",
            "\n",
            "2. Hypothesis\n",
            "H0: µ103 - µ112 ≧ 0\n",
            "Ha: µ103 - µ112 < 0\n",
            "\n",
            "3. Perform F test to check if the sample variance are the same\n",
            "H0: the variances are the same, Ha: the variances are different\n",
            "Since the p-value(0.04873542541519645) is greater than 0.025, H0 is not rejected.\n",
            "There is insufficient evidence to indicate the variances of female student ratio for year 103 and year 112 differ at alpha = 0.05\n",
            "\n",
            "4. Perform 1-sided, 2-sample t-test\n",
            "the test statistic is -0.5664425020461749, p-value is 0.2876532766231015\n",
            "Since the p-value is greater than 0.05, H0 is not rejected.\n",
            "There is insufficient evidence to indicate that there is a difference in the mean number of female student ratio in year 103 and year 112 at alpha = 0.05.\n"
          ]
        }
      ]
    },
    {
      "cell_type": "markdown",
      "source": [
        "3. tech, public"
      ],
      "metadata": {
        "id": "_npP3LKcMWRO"
      }
    },
    {
      "cell_type": "code",
      "source": [
        "t_test(tech_public, 103, 112)"
      ],
      "metadata": {
        "colab": {
          "base_uri": "https://localhost:8080/"
        },
        "outputId": "6cefbd50-df23-47db-d105-e0376c10d2da",
        "id": "jZP9zBirMWRO"
      },
      "execution_count": 78,
      "outputs": [
        {
          "output_type": "stream",
          "name": "stdout",
          "text": [
            "1. Analyze Statistical Measures\n",
            "Calculate the average female student ratio (µ103 & µ112) for each school in the academic years 103 and 112\n",
            "number of schools: 8\n",
            "mean number of female student ratio in year 103:  272.625\n",
            "mean number of female student ratio in year 112:  367.0\n",
            "std of female student ratio in year 103:  102.98534916606897\n",
            "std of female student ratio in year 112:  127.93636811209815\n",
            "\n",
            "2. Hypothesis\n",
            "H0: µ103 - µ112 ≧ 0\n",
            "Ha: µ103 - µ112 < 0\n",
            "\n",
            "3. Perform F test to check if the sample variance are the same\n",
            "H0: the variances are the same, Ha: the variances are different\n",
            "Since the p-value(0.29052708434301333) is greater than 0.025, H0 is not rejected.\n",
            "There is insufficient evidence to indicate the variances of female student ratio for year 103 and year 112 differ at alpha = 0.05\n",
            "\n",
            "4. Perform 1-sided, 2-sample t-test\n",
            "the test statistic is -1.6252932263930289, p-value is 0.06319594146185231\n",
            "Since the p-value is greater than 0.05, H0 is not rejected.\n",
            "There is insufficient evidence to indicate that there is a difference in the mean number of female student ratio in year 103 and year 112 at alpha = 0.05.\n"
          ]
        }
      ]
    },
    {
      "cell_type": "markdown",
      "source": [
        "4. tech, private"
      ],
      "metadata": {
        "id": "RQNMesUyMWRO"
      }
    },
    {
      "cell_type": "code",
      "source": [
        "t_test(tech_private, 103, 112)"
      ],
      "metadata": {
        "colab": {
          "base_uri": "https://localhost:8080/"
        },
        "outputId": "95d83eaf-5405-471b-c337-343105f1a595",
        "id": "H_zzQ2FFMWRO"
      },
      "execution_count": 79,
      "outputs": [
        {
          "output_type": "stream",
          "name": "stdout",
          "text": [
            "1. Analyze Statistical Measures\n",
            "Calculate the average female student ratio (µ103 & µ112) for each school in the academic years 103 and 112\n",
            "number of schools: 23\n",
            "mean number of female student ratio in year 103:  341.72727272727275\n",
            "mean number of female student ratio in year 112:  223.3125\n",
            "std of female student ratio in year 103:  187.55803719387052\n",
            "std of female student ratio in year 112:  161.39587716749975\n",
            "\n",
            "2. Hypothesis\n",
            "H0: µ103 - µ112 ≧ 0\n",
            "Ha: µ103 - µ112 < 0\n",
            "\n",
            "3. Perform F test to check if the sample variance are the same\n",
            "H0: the variances are the same, Ha: the variances are different\n",
            "Since the p-value(0.7565928747560772) is greater than 0.025, H0 is not rejected.\n",
            "There is insufficient evidence to indicate the variances of female student ratio for year 103 and year 112 differ at alpha = 0.05\n",
            "\n",
            "4. Perform 1-sided, 2-sample t-test\n",
            "the test statistic is 2.0346969885583186, p-value is 0.975351351020854\n",
            "Since the p-value is greater than 0.05, H0 is not rejected.\n",
            "There is insufficient evidence to indicate that there is a difference in the mean number of female student ratio in year 103 and year 112 at alpha = 0.05.\n"
          ]
        }
      ]
    }
  ]
}